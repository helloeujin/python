{
 "cells": [
  {
   "cell_type": "markdown",
   "metadata": {},
   "source": [
    "## Interesting Findings\n",
    "\n",
    "#### 1) Asian designers are younger and make more money\n",
    "#### 2) The main challenge for all the designers is 'Design not having a seat at the table'\n",
    "#### 3) 'Diversity in design and tech' => Fourth biggest challenge to White, First for Black, Second for Asian & Latino\n",
    "#### 4) Gender pay gap exists except Asian. Asian female get paid better than Asian male.\n",
    "#### 5) 47.7% of designers are drinking one or two cups of coffee a day\n",
    "#### 6) 79.1% of designers are satisfied with their work (pretty good or the best). And they tend to make more money.\n",
    "\n",
    "\n",
    "Note: Data analysis includes only 4 ethnicity groups (White, Latino, Asian, Black)."
   ]
  },
  {
   "cell_type": "code",
   "execution_count": 1,
   "metadata": {},
   "outputs": [],
   "source": [
    "import pandas as pd"
   ]
  },
  {
   "cell_type": "code",
   "execution_count": 2,
   "metadata": {},
   "outputs": [],
   "source": [
    "data = pd.read_csv(\"data/DesignCensus2017_Data.csv\")"
   ]
  },
  {
   "cell_type": "code",
   "execution_count": 3,
   "metadata": {},
   "outputs": [
    {
     "data": {
      "text/html": [
       "<div>\n",
       "<style scoped>\n",
       "    .dataframe tbody tr th:only-of-type {\n",
       "        vertical-align: middle;\n",
       "    }\n",
       "\n",
       "    .dataframe tbody tr th {\n",
       "        vertical-align: top;\n",
       "    }\n",
       "\n",
       "    .dataframe thead th {\n",
       "        text-align: right;\n",
       "    }\n",
       "</style>\n",
       "<table border=\"1\" class=\"dataframe\">\n",
       "  <thead>\n",
       "    <tr style=\"text-align: right;\">\n",
       "      <th></th>\n",
       "      <th>1 -- I've worked in design for:</th>\n",
       "      <th>2 --I primarily work in:</th>\n",
       "      <th>3 --I'm also good at:</th>\n",
       "      <th>4 --I am currently:</th>\n",
       "      <th>5 --My company specializes in:</th>\n",
       "      <th>6 --My company is:</th>\n",
       "      <th>7 --I teach:</th>\n",
       "      <th>8 --I'm not working because:</th>\n",
       "      <th>9 --My organization has:</th>\n",
       "      <th>10 --My immediate team is:</th>\n",
       "      <th>...</th>\n",
       "      <th>34 --I am:</th>\n",
       "      <th>35 --Right now, I can't stop listening to:</th>\n",
       "      <th>36 --I live in:</th>\n",
       "      <th>37 --My age is:</th>\n",
       "      <th>38 --I am:</th>\n",
       "      <th>39 --I consider myself:</th>\n",
       "      <th>40 --My ethnicity is:</th>\n",
       "      <th>41 --The most critical issues and challenges currently facing design are (answer optional):</th>\n",
       "      <th>42 --The emerging trends and technologies that will have the biggest impact on design are (answer optional):</th>\n",
       "      <th>43 --The most valuable design skills for the future will be (answer optional):</th>\n",
       "    </tr>\n",
       "  </thead>\n",
       "  <tbody>\n",
       "    <tr>\n",
       "      <th>0</th>\n",
       "      <td>10-14 years</td>\n",
       "      <td>Graphic Design|Marketing|Photography|Web Design</td>\n",
       "      <td>Brainstorming and Ideation|Facilitation|Leader...</td>\n",
       "      <td>A full-time employee at an agency or consultancy</td>\n",
       "      <td>Advertising|Branding|Innovation|Strategy</td>\n",
       "      <td>NaN</td>\n",
       "      <td>NaN</td>\n",
       "      <td>NaN</td>\n",
       "      <td>1-10 employees</td>\n",
       "      <td>2-4 people</td>\n",
       "      <td>...</td>\n",
       "      <td>Not interested in a new job right now</td>\n",
       "      <td>Looking Glass</td>\n",
       "      <td>76051.0</td>\n",
       "      <td>24</td>\n",
       "      <td>Male</td>\n",
       "      <td>Not LGBTQ</td>\n",
       "      <td>White or Caucasian</td>\n",
       "      <td>Design not having a \"seat at the table\"|Genera...</td>\n",
       "      <td>AI and machine learning|Augmented Reality|Beha...</td>\n",
       "      <td>Adaptability to tech and social change|Asking ...</td>\n",
       "    </tr>\n",
       "    <tr>\n",
       "      <th>1</th>\n",
       "      <td>1-4 years</td>\n",
       "      <td>Graphic Design|Interaction Design|UI Design|We...</td>\n",
       "      <td>Brainstorming and Ideation|Diversity and Inclu...</td>\n",
       "      <td>A full-time employee at an agency or consultancy</td>\n",
       "      <td>Digital</td>\n",
       "      <td>NaN</td>\n",
       "      <td>NaN</td>\n",
       "      <td>NaN</td>\n",
       "      <td>1-10 employees</td>\n",
       "      <td>Just me</td>\n",
       "      <td>...</td>\n",
       "      <td>Working hard to find my next job</td>\n",
       "      <td>dua lipa</td>\n",
       "      <td>60638.0</td>\n",
       "      <td>25</td>\n",
       "      <td>Female</td>\n",
       "      <td>Not LGBTQ</td>\n",
       "      <td>White or Caucasian</td>\n",
       "      <td>Education cost and equity of access|Generation...</td>\n",
       "      <td>AI and machine learning|Algorithmic design|Beh...</td>\n",
       "      <td>Empathy|Interpersonal skills|Managing complexi...</td>\n",
       "    </tr>\n",
       "    <tr>\n",
       "      <th>2</th>\n",
       "      <td>15-20 years</td>\n",
       "      <td>Communication Design|Marketing|Research|Strategy</td>\n",
       "      <td>Mentoring|Project Management|Social Media</td>\n",
       "      <td>A full-time employee in-house</td>\n",
       "      <td>NaN</td>\n",
       "      <td>Non-Profit</td>\n",
       "      <td>NaN</td>\n",
       "      <td>NaN</td>\n",
       "      <td>11-50 employees</td>\n",
       "      <td>2-4 people</td>\n",
       "      <td>...</td>\n",
       "      <td>Working hard to find my next job</td>\n",
       "      <td>Sia</td>\n",
       "      <td>10005.0</td>\n",
       "      <td>43</td>\n",
       "      <td>Male</td>\n",
       "      <td>Not LGBTQ</td>\n",
       "      <td>White or Caucasian</td>\n",
       "      <td>None of these</td>\n",
       "      <td>None of these</td>\n",
       "      <td>None of these</td>\n",
       "    </tr>\n",
       "    <tr>\n",
       "      <th>3</th>\n",
       "      <td>10-14 years</td>\n",
       "      <td>Communication Design|Graphic Design|Illustrati...</td>\n",
       "      <td>Brainstorming and Ideation|Drawing or Painting...</td>\n",
       "      <td>A full-time employee in-house</td>\n",
       "      <td>NaN</td>\n",
       "      <td>For-Profit/Corporate</td>\n",
       "      <td>NaN</td>\n",
       "      <td>NaN</td>\n",
       "      <td>1000+ employees</td>\n",
       "      <td>11-20 people</td>\n",
       "      <td>...</td>\n",
       "      <td>Open to opportunities, but not actively looking</td>\n",
       "      <td>My cats, begging for breakfast</td>\n",
       "      <td>11217.0</td>\n",
       "      <td>34</td>\n",
       "      <td>Male</td>\n",
       "      <td>Not LGBTQ</td>\n",
       "      <td>White or Caucasian</td>\n",
       "      <td>Advertising supported content model|Algorithm ...</td>\n",
       "      <td>AI and machine learning|Algorithmic design|Con...</td>\n",
       "      <td>Adaptability to tech and social change|Communi...</td>\n",
       "    </tr>\n",
       "    <tr>\n",
       "      <th>4</th>\n",
       "      <td>15-20 years</td>\n",
       "      <td>Communication Design|Environmental Design|Grap...</td>\n",
       "      <td>Brainstorming and Ideation|Business|Drawing or...</td>\n",
       "      <td>A full-time employee at an agency or consultancy</td>\n",
       "      <td>Advertising|Branding|Digital|Innovation|Print|...</td>\n",
       "      <td>NaN</td>\n",
       "      <td>NaN</td>\n",
       "      <td>NaN</td>\n",
       "      <td>11-50 employees</td>\n",
       "      <td>5-10 people</td>\n",
       "      <td>...</td>\n",
       "      <td>Not interested in a new job right now</td>\n",
       "      <td>Big Little Lies Soundtrack</td>\n",
       "      <td>94114.0</td>\n",
       "      <td>39</td>\n",
       "      <td>Male</td>\n",
       "      <td>LGBTQ</td>\n",
       "      <td>White or Caucasian</td>\n",
       "      <td>Advertising supported content model|Algorithm ...</td>\n",
       "      <td>3D printing|AI and machine learning|Algorithmi...</td>\n",
       "      <td>Adaptability to tech and social change|Psychol...</td>\n",
       "    </tr>\n",
       "  </tbody>\n",
       "</table>\n",
       "<p>5 rows × 43 columns</p>\n",
       "</div>"
      ],
      "text/plain": [
       "  1 -- I've worked in design for:  \\\n",
       "0                     10-14 years   \n",
       "1                       1-4 years   \n",
       "2                     15-20 years   \n",
       "3                     10-14 years   \n",
       "4                     15-20 years   \n",
       "\n",
       "                            2 --I primarily work in:  \\\n",
       "0    Graphic Design|Marketing|Photography|Web Design   \n",
       "1  Graphic Design|Interaction Design|UI Design|We...   \n",
       "2   Communication Design|Marketing|Research|Strategy   \n",
       "3  Communication Design|Graphic Design|Illustrati...   \n",
       "4  Communication Design|Environmental Design|Grap...   \n",
       "\n",
       "                               3 --I'm also good at:  \\\n",
       "0  Brainstorming and Ideation|Facilitation|Leader...   \n",
       "1  Brainstorming and Ideation|Diversity and Inclu...   \n",
       "2          Mentoring|Project Management|Social Media   \n",
       "3  Brainstorming and Ideation|Drawing or Painting...   \n",
       "4  Brainstorming and Ideation|Business|Drawing or...   \n",
       "\n",
       "                                4 --I am currently:  \\\n",
       "0  A full-time employee at an agency or consultancy   \n",
       "1  A full-time employee at an agency or consultancy   \n",
       "2                     A full-time employee in-house   \n",
       "3                     A full-time employee in-house   \n",
       "4  A full-time employee at an agency or consultancy   \n",
       "\n",
       "                      5 --My company specializes in:    6 --My company is:  \\\n",
       "0           Advertising|Branding|Innovation|Strategy                   NaN   \n",
       "1                                            Digital                   NaN   \n",
       "2                                                NaN            Non-Profit   \n",
       "3                                                NaN  For-Profit/Corporate   \n",
       "4  Advertising|Branding|Digital|Innovation|Print|...                   NaN   \n",
       "\n",
       "  7 --I teach: 8 --I'm not working because: 9 --My organization has:  \\\n",
       "0          NaN                          NaN           1-10 employees   \n",
       "1          NaN                          NaN           1-10 employees   \n",
       "2          NaN                          NaN          11-50 employees   \n",
       "3          NaN                          NaN          1000+ employees   \n",
       "4          NaN                          NaN          11-50 employees   \n",
       "\n",
       "  10 --My immediate team is:  \\\n",
       "0                 2-4 people   \n",
       "1                    Just me   \n",
       "2                 2-4 people   \n",
       "3               11-20 people   \n",
       "4                5-10 people   \n",
       "\n",
       "                                       ...                                        \\\n",
       "0                                      ...                                         \n",
       "1                                      ...                                         \n",
       "2                                      ...                                         \n",
       "3                                      ...                                         \n",
       "4                                      ...                                         \n",
       "\n",
       "                                        34 --I am:  \\\n",
       "0            Not interested in a new job right now   \n",
       "1                 Working hard to find my next job   \n",
       "2                 Working hard to find my next job   \n",
       "3  Open to opportunities, but not actively looking   \n",
       "4            Not interested in a new job right now   \n",
       "\n",
       "  35 --Right now, I can't stop listening to: 36 --I live in: 37 --My age is:  \\\n",
       "0                              Looking Glass         76051.0              24   \n",
       "1                                   dua lipa         60638.0              25   \n",
       "2                                        Sia         10005.0              43   \n",
       "3             My cats, begging for breakfast         11217.0              34   \n",
       "4                 Big Little Lies Soundtrack         94114.0              39   \n",
       "\n",
       "  38 --I am: 39 --I consider myself: 40 --My ethnicity is:  \\\n",
       "0       Male               Not LGBTQ    White or Caucasian   \n",
       "1     Female               Not LGBTQ    White or Caucasian   \n",
       "2       Male               Not LGBTQ    White or Caucasian   \n",
       "3       Male               Not LGBTQ    White or Caucasian   \n",
       "4       Male                   LGBTQ    White or Caucasian   \n",
       "\n",
       "   41 --The most critical issues and challenges currently facing design are (answer optional):  \\\n",
       "0  Design not having a \"seat at the table\"|Genera...                                             \n",
       "1  Education cost and equity of access|Generation...                                             \n",
       "2                                      None of these                                             \n",
       "3  Advertising supported content model|Algorithm ...                                             \n",
       "4  Advertising supported content model|Algorithm ...                                             \n",
       "\n",
       "  42 --The emerging trends and technologies that will have the biggest impact on design are (answer optional):  \\\n",
       "0  AI and machine learning|Augmented Reality|Beha...                                                             \n",
       "1  AI and machine learning|Algorithmic design|Beh...                                                             \n",
       "2                                      None of these                                                             \n",
       "3  AI and machine learning|Algorithmic design|Con...                                                             \n",
       "4  3D printing|AI and machine learning|Algorithmi...                                                             \n",
       "\n",
       "  43 --The most valuable design skills for the future will be (answer optional):  \n",
       "0  Adaptability to tech and social change|Asking ...                              \n",
       "1  Empathy|Interpersonal skills|Managing complexi...                              \n",
       "2                                      None of these                              \n",
       "3  Adaptability to tech and social change|Communi...                              \n",
       "4  Adaptability to tech and social change|Psychol...                              \n",
       "\n",
       "[5 rows x 43 columns]"
      ]
     },
     "execution_count": 3,
     "metadata": {},
     "output_type": "execute_result"
    }
   ],
   "source": [
    "data.head()"
   ]
  },
  {
   "cell_type": "code",
   "execution_count": 66,
   "metadata": {},
   "outputs": [
    {
     "name": "stdout",
     "output_type": "stream",
     "text": [
      "<class 'pandas.core.frame.DataFrame'>\n",
      "RangeIndex: 13158 entries, 0 to 13157\n",
      "Data columns (total 43 columns):\n",
      "1 -- I've worked in design for:                                                                                 13158 non-null object\n",
      "2 --I primarily work in:                                                                                        13158 non-null object\n",
      "3 --I'm also good at:                                                                                           13158 non-null object\n",
      "4 --I am currently:                                                                                             13158 non-null object\n",
      "5 --My company specializes in:                                                                                  5960 non-null object\n",
      "6 --My company is:                                                                                              5841 non-null object\n",
      "7 --I teach:                                                                                                    358 non-null object\n",
      "8 --I'm not working because:                                                                                    327 non-null object\n",
      "9 --My organization has:                                                                                        12749 non-null object\n",
      "10 --My immediate team is:                                                                                      12756 non-null object\n",
      "11 --My work touches these industries or sectors:                                                               12757 non-null object\n",
      "12 --I�۪ve been at my current place of work for:                                                                12757 non-null object\n",
      "13 --My role is:                                                                                                6068 non-null object\n",
      "14 --My role is:                                                                                                5941 non-null object\n",
      "15 --My role is:                                                                                                389 non-null object\n",
      "16 --I've been in my current role for:                                                                          12757 non-null object\n",
      "17 --I typically work:                                                                                          12757 non-null object\n",
      "18 --My annual salary is:                                                                                       12761 non-null float64\n",
      "19 --My job provides:                                                                                           12758 non-null object\n",
      "20 --In my current role, there is:                                                                              12759 non-null object\n",
      "21 --In my current role, I am:                                                                                  12759 non-null object\n",
      "22 --My job is:                                                                                                 12759 non-null object\n",
      "23 --My job stability is:                                                                                       12759 non-null object\n",
      "24 --In addition to my job, I also:                                                                             12759 non-null object\n",
      "25 --I fuel my daily creativity with coffee:                                                                    13158 non-null object\n",
      "26 --Highest level of education I've completed:                                                                 13158 non-null object\n",
      "27 --I learned design:                                                                                          13158 non-null object\n",
      "28 --My major focus of study was:                                                                               13158 non-null object\n",
      "29 --Over my career, I've had:                                                                                  13158 non-null object\n",
      "30 --I've shifted my specialty or focus area:                                                                   13158 non-null object\n",
      "31 --I stay current with design by:                                                                             13158 non-null object\n",
      "32 --I'm a member of:                                                                                           13158 non-null object\n",
      "33 --I'd like to get better at:                                                                                 13158 non-null object\n",
      "34 --I am:                                                                                                      13158 non-null object\n",
      "35 --Right now, I can't stop listening to:                                                                      13058 non-null object\n",
      "36 --I live in:                                                                                                 10776 non-null float64\n",
      "37 --My age is:                                                                                                 13158 non-null int64\n",
      "38 --I am:                                                                                                      13158 non-null object\n",
      "39 --I consider myself:                                                                                         13158 non-null object\n",
      "40 --My ethnicity is:                                                                                           13158 non-null object\n",
      "41 --The most critical issues and challenges currently facing design are (answer optional):                     12719 non-null object\n",
      "42 --The emerging trends and technologies that will have the biggest impact on design are (answer optional):    12503 non-null object\n",
      "43 --The most valuable design skills for the future will be (answer optional):                                  12729 non-null object\n",
      "dtypes: float64(2), int64(1), object(40)\n",
      "memory usage: 4.3+ MB\n"
     ]
    }
   ],
   "source": [
    "data.info()"
   ]
  },
  {
   "cell_type": "code",
   "execution_count": 5,
   "metadata": {},
   "outputs": [
    {
     "data": {
      "text/html": [
       "<div>\n",
       "<style scoped>\n",
       "    .dataframe tbody tr th:only-of-type {\n",
       "        vertical-align: middle;\n",
       "    }\n",
       "\n",
       "    .dataframe tbody tr th {\n",
       "        vertical-align: top;\n",
       "    }\n",
       "\n",
       "    .dataframe thead th {\n",
       "        text-align: right;\n",
       "    }\n",
       "</style>\n",
       "<table border=\"1\" class=\"dataframe\">\n",
       "  <thead>\n",
       "    <tr style=\"text-align: right;\">\n",
       "      <th></th>\n",
       "      <th>index</th>\n",
       "      <th>40 --My ethnicity is:</th>\n",
       "    </tr>\n",
       "  </thead>\n",
       "  <tbody>\n",
       "    <tr>\n",
       "      <th>0</th>\n",
       "      <td>White or Caucasian</td>\n",
       "      <td>8954</td>\n",
       "    </tr>\n",
       "    <tr>\n",
       "      <th>1</th>\n",
       "      <td>Asian</td>\n",
       "      <td>1377</td>\n",
       "    </tr>\n",
       "    <tr>\n",
       "      <th>2</th>\n",
       "      <td>Latina, Latino, Latinx, or Hispanic</td>\n",
       "      <td>899</td>\n",
       "    </tr>\n",
       "    <tr>\n",
       "      <th>3</th>\n",
       "      <td>Black or African American</td>\n",
       "      <td>409</td>\n",
       "    </tr>\n",
       "    <tr>\n",
       "      <th>4</th>\n",
       "      <td>Prefer not to say</td>\n",
       "      <td>352</td>\n",
       "    </tr>\n",
       "  </tbody>\n",
       "</table>\n",
       "</div>"
      ],
      "text/plain": [
       "                                 index  40 --My ethnicity is:\n",
       "0                   White or Caucasian                   8954\n",
       "1                                Asian                   1377\n",
       "2  Latina, Latino, Latinx, or Hispanic                    899\n",
       "3            Black or African American                    409\n",
       "4                    Prefer not to say                    352"
      ]
     },
     "execution_count": 5,
     "metadata": {},
     "output_type": "execute_result"
    }
   ],
   "source": [
    "data[\"40 --My ethnicity is:\"].value_counts().reset_index().head()"
   ]
  },
  {
   "cell_type": "markdown",
   "metadata": {},
   "source": [
    "# Ethnicity "
   ]
  },
  {
   "cell_type": "code",
   "execution_count": 6,
   "metadata": {},
   "outputs": [],
   "source": [
    "ethnicity = data[\"40 --My ethnicity is:\"].value_counts()"
   ]
  },
  {
   "cell_type": "code",
   "execution_count": 7,
   "metadata": {},
   "outputs": [],
   "source": [
    "total = ethnicity.sum()"
   ]
  },
  {
   "cell_type": "code",
   "execution_count": 8,
   "metadata": {},
   "outputs": [
    {
     "data": {
      "text/plain": [
       "13158"
      ]
     },
     "execution_count": 8,
     "metadata": {},
     "output_type": "execute_result"
    }
   ],
   "source": [
    "total"
   ]
  },
  {
   "cell_type": "markdown",
   "metadata": {},
   "source": [
    "## 1) White"
   ]
  },
  {
   "cell_type": "code",
   "execution_count": 9,
   "metadata": {},
   "outputs": [],
   "source": [
    "race_white = data[data['40 --My ethnicity is:'] == 'White or Caucasian'] "
   ]
  },
  {
   "cell_type": "code",
   "execution_count": 10,
   "metadata": {},
   "outputs": [
    {
     "data": {
      "text/plain": [
       "68.04985560115519"
      ]
     },
     "execution_count": 10,
     "metadata": {},
     "output_type": "execute_result"
    }
   ],
   "source": [
    "float(len(race_white))*100/total  #pct of white"
   ]
  },
  {
   "cell_type": "code",
   "execution_count": 11,
   "metadata": {},
   "outputs": [
    {
     "data": {
      "text/plain": [
       "33.188184051820414"
      ]
     },
     "execution_count": 11,
     "metadata": {},
     "output_type": "execute_result"
    }
   ],
   "source": [
    "race_white['37 --My age is:'].mean() #avg age"
   ]
  },
  {
   "cell_type": "code",
   "execution_count": 12,
   "metadata": {},
   "outputs": [
    {
     "data": {
      "text/plain": [
       "69157.28885077187"
      ]
     },
     "execution_count": 12,
     "metadata": {},
     "output_type": "execute_result"
    }
   ],
   "source": [
    "race_white['18 --My annual salary is:'].mean() #avg income"
   ]
  },
  {
   "cell_type": "code",
   "execution_count": 13,
   "metadata": {},
   "outputs": [
    {
     "data": {
      "text/html": [
       "<div>\n",
       "<style scoped>\n",
       "    .dataframe tbody tr th:only-of-type {\n",
       "        vertical-align: middle;\n",
       "    }\n",
       "\n",
       "    .dataframe tbody tr th {\n",
       "        vertical-align: top;\n",
       "    }\n",
       "\n",
       "    .dataframe thead th {\n",
       "        text-align: right;\n",
       "    }\n",
       "</style>\n",
       "<table border=\"1\" class=\"dataframe\">\n",
       "  <thead>\n",
       "    <tr style=\"text-align: right;\">\n",
       "      <th></th>\n",
       "      <th>index</th>\n",
       "      <th>38 --I am:</th>\n",
       "    </tr>\n",
       "  </thead>\n",
       "  <tbody>\n",
       "    <tr>\n",
       "      <th>0</th>\n",
       "      <td>Female</td>\n",
       "      <td>4872</td>\n",
       "    </tr>\n",
       "    <tr>\n",
       "      <th>1</th>\n",
       "      <td>Male</td>\n",
       "      <td>4000</td>\n",
       "    </tr>\n",
       "    <tr>\n",
       "      <th>2</th>\n",
       "      <td>Non-binary or third gender</td>\n",
       "      <td>58</td>\n",
       "    </tr>\n",
       "    <tr>\n",
       "      <th>3</th>\n",
       "      <td>Prefer not to say</td>\n",
       "      <td>24</td>\n",
       "    </tr>\n",
       "  </tbody>\n",
       "</table>\n",
       "</div>"
      ],
      "text/plain": [
       "                        index  38 --I am:\n",
       "0                      Female        4872\n",
       "1                        Male        4000\n",
       "2  Non-binary or third gender          58\n",
       "3           Prefer not to say          24"
      ]
     },
     "execution_count": 13,
     "metadata": {},
     "output_type": "execute_result"
    }
   ],
   "source": [
    "race_white['38 --I am:'].value_counts().reset_index() #gender"
   ]
  },
  {
   "cell_type": "code",
   "execution_count": 14,
   "metadata": {},
   "outputs": [],
   "source": [
    "white_challenges = race_white['41 --The most critical issues and challenges currently facing design are (answer optional):']"
   ]
  },
  {
   "cell_type": "code",
   "execution_count": 15,
   "metadata": {},
   "outputs": [
    {
     "data": {
      "text/html": [
       "<div>\n",
       "<style scoped>\n",
       "    .dataframe tbody tr th:only-of-type {\n",
       "        vertical-align: middle;\n",
       "    }\n",
       "\n",
       "    .dataframe tbody tr th {\n",
       "        vertical-align: top;\n",
       "    }\n",
       "\n",
       "    .dataframe thead th {\n",
       "        text-align: right;\n",
       "    }\n",
       "</style>\n",
       "<table border=\"1\" class=\"dataframe\">\n",
       "  <thead>\n",
       "    <tr style=\"text-align: right;\">\n",
       "      <th></th>\n",
       "      <th>index</th>\n",
       "      <th>41 --The most critical issues and challenges currently facing design are (answer optional):</th>\n",
       "    </tr>\n",
       "  </thead>\n",
       "  <tbody>\n",
       "    <tr>\n",
       "      <th>0</th>\n",
       "      <td>None of these</td>\n",
       "      <td>483</td>\n",
       "    </tr>\n",
       "    <tr>\n",
       "      <th>1</th>\n",
       "      <td>Design not having a \"seat at the table\"</td>\n",
       "      <td>459</td>\n",
       "    </tr>\n",
       "    <tr>\n",
       "      <th>2</th>\n",
       "      <td>Design not having a \"seat at the table\"|Genera...</td>\n",
       "      <td>173</td>\n",
       "    </tr>\n",
       "    <tr>\n",
       "      <th>3</th>\n",
       "      <td>Generational differences in the workforce</td>\n",
       "      <td>152</td>\n",
       "    </tr>\n",
       "    <tr>\n",
       "      <th>4</th>\n",
       "      <td>Design not having a \"seat at the table\"|Divers...</td>\n",
       "      <td>114</td>\n",
       "    </tr>\n",
       "  </tbody>\n",
       "</table>\n",
       "</div>"
      ],
      "text/plain": [
       "                                               index  \\\n",
       "0                                      None of these   \n",
       "1            Design not having a \"seat at the table\"   \n",
       "2  Design not having a \"seat at the table\"|Genera...   \n",
       "3          Generational differences in the workforce   \n",
       "4  Design not having a \"seat at the table\"|Divers...   \n",
       "\n",
       "   41 --The most critical issues and challenges currently facing design are (answer optional):  \n",
       "0                                                483                                            \n",
       "1                                                459                                            \n",
       "2                                                173                                            \n",
       "3                                                152                                            \n",
       "4                                                114                                            "
      ]
     },
     "execution_count": 15,
     "metadata": {},
     "output_type": "execute_result"
    }
   ],
   "source": [
    "white_challenges.value_counts().sort_values(ascending=False).reset_index().head()"
   ]
  },
  {
   "cell_type": "code",
   "execution_count": 16,
   "metadata": {},
   "outputs": [
    {
     "data": {
      "text/html": [
       "<div>\n",
       "<style scoped>\n",
       "    .dataframe tbody tr th:only-of-type {\n",
       "        vertical-align: middle;\n",
       "    }\n",
       "\n",
       "    .dataframe tbody tr th {\n",
       "        vertical-align: top;\n",
       "    }\n",
       "\n",
       "    .dataframe thead th {\n",
       "        text-align: right;\n",
       "    }\n",
       "</style>\n",
       "<table border=\"1\" class=\"dataframe\">\n",
       "  <thead>\n",
       "    <tr style=\"text-align: right;\">\n",
       "      <th></th>\n",
       "      <th>1 -- I've worked in design for:</th>\n",
       "      <th>18 --My annual salary is:</th>\n",
       "    </tr>\n",
       "  </thead>\n",
       "  <tbody>\n",
       "    <tr>\n",
       "      <th>0</th>\n",
       "      <td>20+ years</td>\n",
       "      <td>96040.563918</td>\n",
       "    </tr>\n",
       "    <tr>\n",
       "      <th>1</th>\n",
       "      <td>15-20 years</td>\n",
       "      <td>93695.455135</td>\n",
       "    </tr>\n",
       "    <tr>\n",
       "      <th>2</th>\n",
       "      <td>10-14 years</td>\n",
       "      <td>79044.524718</td>\n",
       "    </tr>\n",
       "    <tr>\n",
       "      <th>3</th>\n",
       "      <td>5-9 years</td>\n",
       "      <td>67778.381942</td>\n",
       "    </tr>\n",
       "    <tr>\n",
       "      <th>4</th>\n",
       "      <td>1-4 years</td>\n",
       "      <td>50772.952253</td>\n",
       "    </tr>\n",
       "    <tr>\n",
       "      <th>5</th>\n",
       "      <td>Less than 1 year</td>\n",
       "      <td>34488.485030</td>\n",
       "    </tr>\n",
       "  </tbody>\n",
       "</table>\n",
       "</div>"
      ],
      "text/plain": [
       "  1 -- I've worked in design for:  18 --My annual salary is:\n",
       "0                       20+ years               96040.563918\n",
       "1                     15-20 years               93695.455135\n",
       "2                     10-14 years               79044.524718\n",
       "3                       5-9 years               67778.381942\n",
       "4                       1-4 years               50772.952253\n",
       "5                Less than 1 year               34488.485030"
      ]
     },
     "execution_count": 16,
     "metadata": {},
     "output_type": "execute_result"
    }
   ],
   "source": [
    "race_white.groupby(\"1 -- I've worked in design for:\")['18 --My annual salary is:'].mean().sort_values(ascending=False).reset_index()"
   ]
  },
  {
   "cell_type": "code",
   "execution_count": 17,
   "metadata": {},
   "outputs": [
    {
     "data": {
      "text/html": [
       "<div>\n",
       "<style scoped>\n",
       "    .dataframe tbody tr th:only-of-type {\n",
       "        vertical-align: middle;\n",
       "    }\n",
       "\n",
       "    .dataframe tbody tr th {\n",
       "        vertical-align: top;\n",
       "    }\n",
       "\n",
       "    .dataframe thead th {\n",
       "        text-align: right;\n",
       "    }\n",
       "</style>\n",
       "<table border=\"1\" class=\"dataframe\">\n",
       "  <thead>\n",
       "    <tr style=\"text-align: right;\">\n",
       "      <th></th>\n",
       "      <th>38 --I am:</th>\n",
       "      <th>18 --My annual salary is:</th>\n",
       "    </tr>\n",
       "  </thead>\n",
       "  <tbody>\n",
       "    <tr>\n",
       "      <th>0</th>\n",
       "      <td>Male</td>\n",
       "      <td>78762.928041</td>\n",
       "    </tr>\n",
       "    <tr>\n",
       "      <th>1</th>\n",
       "      <td>Female</td>\n",
       "      <td>61554.009458</td>\n",
       "    </tr>\n",
       "    <tr>\n",
       "      <th>2</th>\n",
       "      <td>Non-binary or third gender</td>\n",
       "      <td>57177.241379</td>\n",
       "    </tr>\n",
       "    <tr>\n",
       "      <th>3</th>\n",
       "      <td>Prefer not to say</td>\n",
       "      <td>42541.666667</td>\n",
       "    </tr>\n",
       "  </tbody>\n",
       "</table>\n",
       "</div>"
      ],
      "text/plain": [
       "                   38 --I am:  18 --My annual salary is:\n",
       "0                        Male               78762.928041\n",
       "1                      Female               61554.009458\n",
       "2  Non-binary or third gender               57177.241379\n",
       "3           Prefer not to say               42541.666667"
      ]
     },
     "execution_count": 17,
     "metadata": {},
     "output_type": "execute_result"
    }
   ],
   "source": [
    "race_white.groupby(\"38 --I am:\")['18 --My annual salary is:'].mean().sort_values(ascending=False).reset_index()"
   ]
  },
  {
   "cell_type": "code",
   "execution_count": 18,
   "metadata": {},
   "outputs": [],
   "source": [
    "#race_white['22 --My job is:'].value_counts().sort_values(ascending=False).reset_index().head()"
   ]
  },
  {
   "cell_type": "markdown",
   "metadata": {},
   "source": [
    "## 2) Asian"
   ]
  },
  {
   "cell_type": "code",
   "execution_count": 19,
   "metadata": {},
   "outputs": [],
   "source": [
    "race_asian = data[data['40 --My ethnicity is:'] == 'Asian'] "
   ]
  },
  {
   "cell_type": "code",
   "execution_count": 20,
   "metadata": {},
   "outputs": [
    {
     "data": {
      "text/plain": [
       "10.465116279069768"
      ]
     },
     "execution_count": 20,
     "metadata": {},
     "output_type": "execute_result"
    }
   ],
   "source": [
    "float(len(race_asian))*100/total  #pct of asian"
   ]
  },
  {
   "cell_type": "code",
   "execution_count": 21,
   "metadata": {},
   "outputs": [
    {
     "data": {
      "text/plain": [
       "29.112563543936094"
      ]
     },
     "execution_count": 21,
     "metadata": {},
     "output_type": "execute_result"
    }
   ],
   "source": [
    "race_asian['37 --My age is:'].mean() #avg age"
   ]
  },
  {
   "cell_type": "code",
   "execution_count": 22,
   "metadata": {},
   "outputs": [
    {
     "data": {
      "text/plain": [
       "72199.86712749615"
      ]
     },
     "execution_count": 22,
     "metadata": {},
     "output_type": "execute_result"
    }
   ],
   "source": [
    "race_asian['18 --My annual salary is:'].mean() #avg income"
   ]
  },
  {
   "cell_type": "code",
   "execution_count": 23,
   "metadata": {},
   "outputs": [
    {
     "data": {
      "text/html": [
       "<div>\n",
       "<style scoped>\n",
       "    .dataframe tbody tr th:only-of-type {\n",
       "        vertical-align: middle;\n",
       "    }\n",
       "\n",
       "    .dataframe tbody tr th {\n",
       "        vertical-align: top;\n",
       "    }\n",
       "\n",
       "    .dataframe thead th {\n",
       "        text-align: right;\n",
       "    }\n",
       "</style>\n",
       "<table border=\"1\" class=\"dataframe\">\n",
       "  <thead>\n",
       "    <tr style=\"text-align: right;\">\n",
       "      <th></th>\n",
       "      <th>index</th>\n",
       "      <th>38 --I am:</th>\n",
       "    </tr>\n",
       "  </thead>\n",
       "  <tbody>\n",
       "    <tr>\n",
       "      <th>0</th>\n",
       "      <td>Female</td>\n",
       "      <td>772</td>\n",
       "    </tr>\n",
       "    <tr>\n",
       "      <th>1</th>\n",
       "      <td>Male</td>\n",
       "      <td>590</td>\n",
       "    </tr>\n",
       "    <tr>\n",
       "      <th>2</th>\n",
       "      <td>Non-binary or third gender</td>\n",
       "      <td>10</td>\n",
       "    </tr>\n",
       "    <tr>\n",
       "      <th>3</th>\n",
       "      <td>Prefer not to say</td>\n",
       "      <td>5</td>\n",
       "    </tr>\n",
       "  </tbody>\n",
       "</table>\n",
       "</div>"
      ],
      "text/plain": [
       "                        index  38 --I am:\n",
       "0                      Female         772\n",
       "1                        Male         590\n",
       "2  Non-binary or third gender          10\n",
       "3           Prefer not to say           5"
      ]
     },
     "execution_count": 23,
     "metadata": {},
     "output_type": "execute_result"
    }
   ],
   "source": [
    "race_asian['38 --I am:'].value_counts().reset_index() #gender"
   ]
  },
  {
   "cell_type": "code",
   "execution_count": 24,
   "metadata": {},
   "outputs": [],
   "source": [
    "asian_challenges = race_asian['41 --The most critical issues and challenges currently facing design are (answer optional):']"
   ]
  },
  {
   "cell_type": "code",
   "execution_count": 25,
   "metadata": {},
   "outputs": [
    {
     "data": {
      "text/html": [
       "<div>\n",
       "<style scoped>\n",
       "    .dataframe tbody tr th:only-of-type {\n",
       "        vertical-align: middle;\n",
       "    }\n",
       "\n",
       "    .dataframe tbody tr th {\n",
       "        vertical-align: top;\n",
       "    }\n",
       "\n",
       "    .dataframe thead th {\n",
       "        text-align: right;\n",
       "    }\n",
       "</style>\n",
       "<table border=\"1\" class=\"dataframe\">\n",
       "  <thead>\n",
       "    <tr style=\"text-align: right;\">\n",
       "      <th></th>\n",
       "      <th>index</th>\n",
       "      <th>41 --The most critical issues and challenges currently facing design are (answer optional):</th>\n",
       "    </tr>\n",
       "  </thead>\n",
       "  <tbody>\n",
       "    <tr>\n",
       "      <th>0</th>\n",
       "      <td>None of these</td>\n",
       "      <td>49</td>\n",
       "    </tr>\n",
       "    <tr>\n",
       "      <th>1</th>\n",
       "      <td>Design not having a \"seat at the table\"</td>\n",
       "      <td>38</td>\n",
       "    </tr>\n",
       "    <tr>\n",
       "      <th>2</th>\n",
       "      <td>Diversity in design and tech</td>\n",
       "      <td>24</td>\n",
       "    </tr>\n",
       "    <tr>\n",
       "      <th>3</th>\n",
       "      <td>Design not having a \"seat at the table\"|Divers...</td>\n",
       "      <td>21</td>\n",
       "    </tr>\n",
       "    <tr>\n",
       "      <th>4</th>\n",
       "      <td>Design not having a \"seat at the table\"|Genera...</td>\n",
       "      <td>15</td>\n",
       "    </tr>\n",
       "  </tbody>\n",
       "</table>\n",
       "</div>"
      ],
      "text/plain": [
       "                                               index  \\\n",
       "0                                      None of these   \n",
       "1            Design not having a \"seat at the table\"   \n",
       "2                       Diversity in design and tech   \n",
       "3  Design not having a \"seat at the table\"|Divers...   \n",
       "4  Design not having a \"seat at the table\"|Genera...   \n",
       "\n",
       "   41 --The most critical issues and challenges currently facing design are (answer optional):  \n",
       "0                                                 49                                            \n",
       "1                                                 38                                            \n",
       "2                                                 24                                            \n",
       "3                                                 21                                            \n",
       "4                                                 15                                            "
      ]
     },
     "execution_count": 25,
     "metadata": {},
     "output_type": "execute_result"
    }
   ],
   "source": [
    "asian_challenges.value_counts().sort_values(ascending=False).reset_index().head()"
   ]
  },
  {
   "cell_type": "code",
   "execution_count": 26,
   "metadata": {},
   "outputs": [
    {
     "data": {
      "text/html": [
       "<div>\n",
       "<style scoped>\n",
       "    .dataframe tbody tr th:only-of-type {\n",
       "        vertical-align: middle;\n",
       "    }\n",
       "\n",
       "    .dataframe tbody tr th {\n",
       "        vertical-align: top;\n",
       "    }\n",
       "\n",
       "    .dataframe thead th {\n",
       "        text-align: right;\n",
       "    }\n",
       "</style>\n",
       "<table border=\"1\" class=\"dataframe\">\n",
       "  <thead>\n",
       "    <tr style=\"text-align: right;\">\n",
       "      <th></th>\n",
       "      <th>1 -- I've worked in design for:</th>\n",
       "      <th>18 --My annual salary is:</th>\n",
       "    </tr>\n",
       "  </thead>\n",
       "  <tbody>\n",
       "    <tr>\n",
       "      <th>0</th>\n",
       "      <td>10-14 years</td>\n",
       "      <td>101375.684564</td>\n",
       "    </tr>\n",
       "    <tr>\n",
       "      <th>1</th>\n",
       "      <td>20+ years</td>\n",
       "      <td>93111.111111</td>\n",
       "    </tr>\n",
       "    <tr>\n",
       "      <th>2</th>\n",
       "      <td>15-20 years</td>\n",
       "      <td>92922.517647</td>\n",
       "    </tr>\n",
       "    <tr>\n",
       "      <th>3</th>\n",
       "      <td>5-9 years</td>\n",
       "      <td>78412.234463</td>\n",
       "    </tr>\n",
       "    <tr>\n",
       "      <th>4</th>\n",
       "      <td>1-4 years</td>\n",
       "      <td>62384.512324</td>\n",
       "    </tr>\n",
       "    <tr>\n",
       "      <th>5</th>\n",
       "      <td>Less than 1 year</td>\n",
       "      <td>40513.654545</td>\n",
       "    </tr>\n",
       "  </tbody>\n",
       "</table>\n",
       "</div>"
      ],
      "text/plain": [
       "  1 -- I've worked in design for:  18 --My annual salary is:\n",
       "0                     10-14 years              101375.684564\n",
       "1                       20+ years               93111.111111\n",
       "2                     15-20 years               92922.517647\n",
       "3                       5-9 years               78412.234463\n",
       "4                       1-4 years               62384.512324\n",
       "5                Less than 1 year               40513.654545"
      ]
     },
     "execution_count": 26,
     "metadata": {},
     "output_type": "execute_result"
    }
   ],
   "source": [
    "race_asian.groupby(\"1 -- I've worked in design for:\")['18 --My annual salary is:'].mean().sort_values(ascending=False).reset_index()"
   ]
  },
  {
   "cell_type": "code",
   "execution_count": 27,
   "metadata": {},
   "outputs": [
    {
     "data": {
      "text/html": [
       "<div>\n",
       "<style scoped>\n",
       "    .dataframe tbody tr th:only-of-type {\n",
       "        vertical-align: middle;\n",
       "    }\n",
       "\n",
       "    .dataframe tbody tr th {\n",
       "        vertical-align: top;\n",
       "    }\n",
       "\n",
       "    .dataframe thead th {\n",
       "        text-align: right;\n",
       "    }\n",
       "</style>\n",
       "<table border=\"1\" class=\"dataframe\">\n",
       "  <thead>\n",
       "    <tr style=\"text-align: right;\">\n",
       "      <th></th>\n",
       "      <th>38 --I am:</th>\n",
       "      <th>18 --My annual salary is:</th>\n",
       "    </tr>\n",
       "  </thead>\n",
       "  <tbody>\n",
       "    <tr>\n",
       "      <th>0</th>\n",
       "      <td>Prefer not to say</td>\n",
       "      <td>179780.000000</td>\n",
       "    </tr>\n",
       "    <tr>\n",
       "      <th>1</th>\n",
       "      <td>Female</td>\n",
       "      <td>74270.756831</td>\n",
       "    </tr>\n",
       "    <tr>\n",
       "      <th>2</th>\n",
       "      <td>Male</td>\n",
       "      <td>69150.870270</td>\n",
       "    </tr>\n",
       "    <tr>\n",
       "      <th>3</th>\n",
       "      <td>Non-binary or third gender</td>\n",
       "      <td>36040.000000</td>\n",
       "    </tr>\n",
       "  </tbody>\n",
       "</table>\n",
       "</div>"
      ],
      "text/plain": [
       "                   38 --I am:  18 --My annual salary is:\n",
       "0           Prefer not to say              179780.000000\n",
       "1                      Female               74270.756831\n",
       "2                        Male               69150.870270\n",
       "3  Non-binary or third gender               36040.000000"
      ]
     },
     "execution_count": 27,
     "metadata": {},
     "output_type": "execute_result"
    }
   ],
   "source": [
    "race_asian.groupby(\"38 --I am:\")['18 --My annual salary is:'].mean().sort_values(ascending=False).reset_index()"
   ]
  },
  {
   "cell_type": "code",
   "execution_count": 28,
   "metadata": {},
   "outputs": [],
   "source": [
    "#race_asian['22 --My job is:'].value_counts().sort_values(ascending=False).reset_index().head()"
   ]
  },
  {
   "cell_type": "markdown",
   "metadata": {},
   "source": [
    "## 3) Latina, Latino, Latinx, or Hispanic"
   ]
  },
  {
   "cell_type": "code",
   "execution_count": 29,
   "metadata": {},
   "outputs": [],
   "source": [
    "race_latino = data[data['40 --My ethnicity is:'] == 'Latina, Latino, Latinx, or Hispanic'] "
   ]
  },
  {
   "cell_type": "code",
   "execution_count": 30,
   "metadata": {},
   "outputs": [
    {
     "data": {
      "text/plain": [
       "6.83234534123727"
      ]
     },
     "execution_count": 30,
     "metadata": {},
     "output_type": "execute_result"
    }
   ],
   "source": [
    "float(len(race_latino))*100/total  #pct of ratino"
   ]
  },
  {
   "cell_type": "code",
   "execution_count": 31,
   "metadata": {},
   "outputs": [
    {
     "data": {
      "text/plain": [
       "31.53281423804227"
      ]
     },
     "execution_count": 31,
     "metadata": {},
     "output_type": "execute_result"
    }
   ],
   "source": [
    "race_latino['37 --My age is:'].mean() #avg age"
   ]
  },
  {
   "cell_type": "code",
   "execution_count": 32,
   "metadata": {},
   "outputs": [
    {
     "data": {
      "text/plain": [
       "54967.211627906974"
      ]
     },
     "execution_count": 32,
     "metadata": {},
     "output_type": "execute_result"
    }
   ],
   "source": [
    "race_latino['18 --My annual salary is:'].mean() #avg income"
   ]
  },
  {
   "cell_type": "code",
   "execution_count": 33,
   "metadata": {},
   "outputs": [
    {
     "data": {
      "text/html": [
       "<div>\n",
       "<style scoped>\n",
       "    .dataframe tbody tr th:only-of-type {\n",
       "        vertical-align: middle;\n",
       "    }\n",
       "\n",
       "    .dataframe tbody tr th {\n",
       "        vertical-align: top;\n",
       "    }\n",
       "\n",
       "    .dataframe thead th {\n",
       "        text-align: right;\n",
       "    }\n",
       "</style>\n",
       "<table border=\"1\" class=\"dataframe\">\n",
       "  <thead>\n",
       "    <tr style=\"text-align: right;\">\n",
       "      <th></th>\n",
       "      <th>index</th>\n",
       "      <th>38 --I am:</th>\n",
       "    </tr>\n",
       "  </thead>\n",
       "  <tbody>\n",
       "    <tr>\n",
       "      <th>0</th>\n",
       "      <td>Female</td>\n",
       "      <td>446</td>\n",
       "    </tr>\n",
       "    <tr>\n",
       "      <th>1</th>\n",
       "      <td>Male</td>\n",
       "      <td>443</td>\n",
       "    </tr>\n",
       "    <tr>\n",
       "      <th>2</th>\n",
       "      <td>Non-binary or third gender</td>\n",
       "      <td>6</td>\n",
       "    </tr>\n",
       "    <tr>\n",
       "      <th>3</th>\n",
       "      <td>Prefer not to say</td>\n",
       "      <td>4</td>\n",
       "    </tr>\n",
       "  </tbody>\n",
       "</table>\n",
       "</div>"
      ],
      "text/plain": [
       "                        index  38 --I am:\n",
       "0                      Female         446\n",
       "1                        Male         443\n",
       "2  Non-binary or third gender           6\n",
       "3           Prefer not to say           4"
      ]
     },
     "execution_count": 33,
     "metadata": {},
     "output_type": "execute_result"
    }
   ],
   "source": [
    "race_latino['38 --I am:'].value_counts().reset_index() #gender"
   ]
  },
  {
   "cell_type": "code",
   "execution_count": 34,
   "metadata": {},
   "outputs": [],
   "source": [
    "latino_challenges = race_latino['41 --The most critical issues and challenges currently facing design are (answer optional):']"
   ]
  },
  {
   "cell_type": "code",
   "execution_count": 35,
   "metadata": {},
   "outputs": [
    {
     "data": {
      "text/html": [
       "<div>\n",
       "<style scoped>\n",
       "    .dataframe tbody tr th:only-of-type {\n",
       "        vertical-align: middle;\n",
       "    }\n",
       "\n",
       "    .dataframe tbody tr th {\n",
       "        vertical-align: top;\n",
       "    }\n",
       "\n",
       "    .dataframe thead th {\n",
       "        text-align: right;\n",
       "    }\n",
       "</style>\n",
       "<table border=\"1\" class=\"dataframe\">\n",
       "  <thead>\n",
       "    <tr style=\"text-align: right;\">\n",
       "      <th></th>\n",
       "      <th>index</th>\n",
       "      <th>41 --The most critical issues and challenges currently facing design are (answer optional):</th>\n",
       "    </tr>\n",
       "  </thead>\n",
       "  <tbody>\n",
       "    <tr>\n",
       "      <th>0</th>\n",
       "      <td>None of these</td>\n",
       "      <td>45</td>\n",
       "    </tr>\n",
       "    <tr>\n",
       "      <th>1</th>\n",
       "      <td>Design not having a \"seat at the table\"</td>\n",
       "      <td>38</td>\n",
       "    </tr>\n",
       "    <tr>\n",
       "      <th>2</th>\n",
       "      <td>Diversity in design and tech</td>\n",
       "      <td>19</td>\n",
       "    </tr>\n",
       "    <tr>\n",
       "      <th>3</th>\n",
       "      <td>Design not having a \"seat at the table\"|Divers...</td>\n",
       "      <td>13</td>\n",
       "    </tr>\n",
       "    <tr>\n",
       "      <th>4</th>\n",
       "      <td>Generational differences in the workforce</td>\n",
       "      <td>13</td>\n",
       "    </tr>\n",
       "  </tbody>\n",
       "</table>\n",
       "</div>"
      ],
      "text/plain": [
       "                                               index  \\\n",
       "0                                      None of these   \n",
       "1            Design not having a \"seat at the table\"   \n",
       "2                       Diversity in design and tech   \n",
       "3  Design not having a \"seat at the table\"|Divers...   \n",
       "4          Generational differences in the workforce   \n",
       "\n",
       "   41 --The most critical issues and challenges currently facing design are (answer optional):  \n",
       "0                                                 45                                            \n",
       "1                                                 38                                            \n",
       "2                                                 19                                            \n",
       "3                                                 13                                            \n",
       "4                                                 13                                            "
      ]
     },
     "execution_count": 35,
     "metadata": {},
     "output_type": "execute_result"
    }
   ],
   "source": [
    "latino_challenges.value_counts().sort_values(ascending=False).reset_index().head()"
   ]
  },
  {
   "cell_type": "code",
   "execution_count": 36,
   "metadata": {},
   "outputs": [
    {
     "data": {
      "text/html": [
       "<div>\n",
       "<style scoped>\n",
       "    .dataframe tbody tr th:only-of-type {\n",
       "        vertical-align: middle;\n",
       "    }\n",
       "\n",
       "    .dataframe tbody tr th {\n",
       "        vertical-align: top;\n",
       "    }\n",
       "\n",
       "    .dataframe thead th {\n",
       "        text-align: right;\n",
       "    }\n",
       "</style>\n",
       "<table border=\"1\" class=\"dataframe\">\n",
       "  <thead>\n",
       "    <tr style=\"text-align: right;\">\n",
       "      <th></th>\n",
       "      <th>1 -- I've worked in design for:</th>\n",
       "      <th>18 --My annual salary is:</th>\n",
       "    </tr>\n",
       "  </thead>\n",
       "  <tbody>\n",
       "    <tr>\n",
       "      <th>0</th>\n",
       "      <td>15-20 years</td>\n",
       "      <td>77801.469880</td>\n",
       "    </tr>\n",
       "    <tr>\n",
       "      <th>1</th>\n",
       "      <td>10-14 years</td>\n",
       "      <td>73388.370861</td>\n",
       "    </tr>\n",
       "    <tr>\n",
       "      <th>2</th>\n",
       "      <td>20+ years</td>\n",
       "      <td>65540.690476</td>\n",
       "    </tr>\n",
       "    <tr>\n",
       "      <th>3</th>\n",
       "      <td>5-9 years</td>\n",
       "      <td>53322.000000</td>\n",
       "    </tr>\n",
       "    <tr>\n",
       "      <th>4</th>\n",
       "      <td>1-4 years</td>\n",
       "      <td>41833.962585</td>\n",
       "    </tr>\n",
       "    <tr>\n",
       "      <th>5</th>\n",
       "      <td>Less than 1 year</td>\n",
       "      <td>36308.130435</td>\n",
       "    </tr>\n",
       "  </tbody>\n",
       "</table>\n",
       "</div>"
      ],
      "text/plain": [
       "  1 -- I've worked in design for:  18 --My annual salary is:\n",
       "0                     15-20 years               77801.469880\n",
       "1                     10-14 years               73388.370861\n",
       "2                       20+ years               65540.690476\n",
       "3                       5-9 years               53322.000000\n",
       "4                       1-4 years               41833.962585\n",
       "5                Less than 1 year               36308.130435"
      ]
     },
     "execution_count": 36,
     "metadata": {},
     "output_type": "execute_result"
    }
   ],
   "source": [
    "race_latino.groupby(\"1 -- I've worked in design for:\")['18 --My annual salary is:'].mean().sort_values(ascending=False).reset_index()"
   ]
  },
  {
   "cell_type": "code",
   "execution_count": 37,
   "metadata": {},
   "outputs": [
    {
     "data": {
      "text/html": [
       "<div>\n",
       "<style scoped>\n",
       "    .dataframe tbody tr th:only-of-type {\n",
       "        vertical-align: middle;\n",
       "    }\n",
       "\n",
       "    .dataframe tbody tr th {\n",
       "        vertical-align: top;\n",
       "    }\n",
       "\n",
       "    .dataframe thead th {\n",
       "        text-align: right;\n",
       "    }\n",
       "</style>\n",
       "<table border=\"1\" class=\"dataframe\">\n",
       "  <thead>\n",
       "    <tr style=\"text-align: right;\">\n",
       "      <th></th>\n",
       "      <th>38 --I am:</th>\n",
       "      <th>18 --My annual salary is:</th>\n",
       "    </tr>\n",
       "  </thead>\n",
       "  <tbody>\n",
       "    <tr>\n",
       "      <th>0</th>\n",
       "      <td>Non-binary or third gender</td>\n",
       "      <td>67833.333333</td>\n",
       "    </tr>\n",
       "    <tr>\n",
       "      <th>1</th>\n",
       "      <td>Male</td>\n",
       "      <td>57318.797203</td>\n",
       "    </tr>\n",
       "    <tr>\n",
       "      <th>2</th>\n",
       "      <td>Female</td>\n",
       "      <td>52492.981043</td>\n",
       "    </tr>\n",
       "    <tr>\n",
       "      <th>3</th>\n",
       "      <td>Prefer not to say</td>\n",
       "      <td>41000.000000</td>\n",
       "    </tr>\n",
       "  </tbody>\n",
       "</table>\n",
       "</div>"
      ],
      "text/plain": [
       "                   38 --I am:  18 --My annual salary is:\n",
       "0  Non-binary or third gender               67833.333333\n",
       "1                        Male               57318.797203\n",
       "2                      Female               52492.981043\n",
       "3           Prefer not to say               41000.000000"
      ]
     },
     "execution_count": 37,
     "metadata": {},
     "output_type": "execute_result"
    }
   ],
   "source": [
    "race_latino.groupby(\"38 --I am:\")['18 --My annual salary is:'].mean().sort_values(ascending=False).reset_index()"
   ]
  },
  {
   "cell_type": "code",
   "execution_count": 38,
   "metadata": {},
   "outputs": [],
   "source": [
    "#race_latino['22 --My job is:'].value_counts().sort_values(ascending=False).reset_index().head()"
   ]
  },
  {
   "cell_type": "markdown",
   "metadata": {},
   "source": [
    "## 4) Black or African American\t"
   ]
  },
  {
   "cell_type": "code",
   "execution_count": 39,
   "metadata": {},
   "outputs": [],
   "source": [
    "race_black = data[data['40 --My ethnicity is:'] == 'Black or African American'] "
   ]
  },
  {
   "cell_type": "code",
   "execution_count": 40,
   "metadata": {},
   "outputs": [
    {
     "data": {
      "text/plain": [
       "3.108375132998936"
      ]
     },
     "execution_count": 40,
     "metadata": {},
     "output_type": "execute_result"
    }
   ],
   "source": [
    "float(len(race_black))*100/total #pct of black"
   ]
  },
  {
   "cell_type": "code",
   "execution_count": 41,
   "metadata": {},
   "outputs": [
    {
     "data": {
      "text/plain": [
       "32.10268948655257"
      ]
     },
     "execution_count": 41,
     "metadata": {},
     "output_type": "execute_result"
    }
   ],
   "source": [
    "race_black['37 --My age is:'].mean() #avg age"
   ]
  },
  {
   "cell_type": "code",
   "execution_count": 42,
   "metadata": {},
   "outputs": [
    {
     "data": {
      "text/plain": [
       "62897.52971576228"
      ]
     },
     "execution_count": 42,
     "metadata": {},
     "output_type": "execute_result"
    }
   ],
   "source": [
    "race_black['18 --My annual salary is:'].mean() #avg income"
   ]
  },
  {
   "cell_type": "code",
   "execution_count": 43,
   "metadata": {},
   "outputs": [
    {
     "data": {
      "text/html": [
       "<div>\n",
       "<style scoped>\n",
       "    .dataframe tbody tr th:only-of-type {\n",
       "        vertical-align: middle;\n",
       "    }\n",
       "\n",
       "    .dataframe tbody tr th {\n",
       "        vertical-align: top;\n",
       "    }\n",
       "\n",
       "    .dataframe thead th {\n",
       "        text-align: right;\n",
       "    }\n",
       "</style>\n",
       "<table border=\"1\" class=\"dataframe\">\n",
       "  <thead>\n",
       "    <tr style=\"text-align: right;\">\n",
       "      <th></th>\n",
       "      <th>index</th>\n",
       "      <th>38 --I am:</th>\n",
       "    </tr>\n",
       "  </thead>\n",
       "  <tbody>\n",
       "    <tr>\n",
       "      <th>0</th>\n",
       "      <td>Female</td>\n",
       "      <td>206</td>\n",
       "    </tr>\n",
       "    <tr>\n",
       "      <th>1</th>\n",
       "      <td>Male</td>\n",
       "      <td>193</td>\n",
       "    </tr>\n",
       "    <tr>\n",
       "      <th>2</th>\n",
       "      <td>Non-binary or third gender</td>\n",
       "      <td>7</td>\n",
       "    </tr>\n",
       "    <tr>\n",
       "      <th>3</th>\n",
       "      <td>Prefer not to say</td>\n",
       "      <td>2</td>\n",
       "    </tr>\n",
       "    <tr>\n",
       "      <th>4</th>\n",
       "      <td>Other</td>\n",
       "      <td>1</td>\n",
       "    </tr>\n",
       "  </tbody>\n",
       "</table>\n",
       "</div>"
      ],
      "text/plain": [
       "                        index  38 --I am:\n",
       "0                      Female         206\n",
       "1                        Male         193\n",
       "2  Non-binary or third gender           7\n",
       "3           Prefer not to say           2\n",
       "4                       Other           1"
      ]
     },
     "execution_count": 43,
     "metadata": {},
     "output_type": "execute_result"
    }
   ],
   "source": [
    "race_black['38 --I am:'].value_counts().reset_index()"
   ]
  },
  {
   "cell_type": "code",
   "execution_count": 44,
   "metadata": {},
   "outputs": [],
   "source": [
    "black_challenges = race_black['41 --The most critical issues and challenges currently facing design are (answer optional):']"
   ]
  },
  {
   "cell_type": "code",
   "execution_count": 45,
   "metadata": {},
   "outputs": [
    {
     "data": {
      "text/html": [
       "<div>\n",
       "<style scoped>\n",
       "    .dataframe tbody tr th:only-of-type {\n",
       "        vertical-align: middle;\n",
       "    }\n",
       "\n",
       "    .dataframe tbody tr th {\n",
       "        vertical-align: top;\n",
       "    }\n",
       "\n",
       "    .dataframe thead th {\n",
       "        text-align: right;\n",
       "    }\n",
       "</style>\n",
       "<table border=\"1\" class=\"dataframe\">\n",
       "  <thead>\n",
       "    <tr style=\"text-align: right;\">\n",
       "      <th></th>\n",
       "      <th>index</th>\n",
       "      <th>41 --The most critical issues and challenges currently facing design are (answer optional):</th>\n",
       "    </tr>\n",
       "  </thead>\n",
       "  <tbody>\n",
       "    <tr>\n",
       "      <th>0</th>\n",
       "      <td>Design not having a \"seat at the table\"|Divers...</td>\n",
       "      <td>21</td>\n",
       "    </tr>\n",
       "    <tr>\n",
       "      <th>1</th>\n",
       "      <td>Design not having a \"seat at the table\"|Divers...</td>\n",
       "      <td>20</td>\n",
       "    </tr>\n",
       "    <tr>\n",
       "      <th>2</th>\n",
       "      <td>Diversity in design and tech</td>\n",
       "      <td>19</td>\n",
       "    </tr>\n",
       "    <tr>\n",
       "      <th>3</th>\n",
       "      <td>None of these</td>\n",
       "      <td>18</td>\n",
       "    </tr>\n",
       "    <tr>\n",
       "      <th>4</th>\n",
       "      <td>Design not having a \"seat at the table\"</td>\n",
       "      <td>11</td>\n",
       "    </tr>\n",
       "  </tbody>\n",
       "</table>\n",
       "</div>"
      ],
      "text/plain": [
       "                                               index  \\\n",
       "0  Design not having a \"seat at the table\"|Divers...   \n",
       "1  Design not having a \"seat at the table\"|Divers...   \n",
       "2                       Diversity in design and tech   \n",
       "3                                      None of these   \n",
       "4            Design not having a \"seat at the table\"   \n",
       "\n",
       "   41 --The most critical issues and challenges currently facing design are (answer optional):  \n",
       "0                                                 21                                            \n",
       "1                                                 20                                            \n",
       "2                                                 19                                            \n",
       "3                                                 18                                            \n",
       "4                                                 11                                            "
      ]
     },
     "execution_count": 45,
     "metadata": {},
     "output_type": "execute_result"
    }
   ],
   "source": [
    "black_challenges.value_counts().sort_values(ascending=False).reset_index().head()"
   ]
  },
  {
   "cell_type": "code",
   "execution_count": 46,
   "metadata": {},
   "outputs": [
    {
     "data": {
      "text/html": [
       "<div>\n",
       "<style scoped>\n",
       "    .dataframe tbody tr th:only-of-type {\n",
       "        vertical-align: middle;\n",
       "    }\n",
       "\n",
       "    .dataframe tbody tr th {\n",
       "        vertical-align: top;\n",
       "    }\n",
       "\n",
       "    .dataframe thead th {\n",
       "        text-align: right;\n",
       "    }\n",
       "</style>\n",
       "<table border=\"1\" class=\"dataframe\">\n",
       "  <thead>\n",
       "    <tr style=\"text-align: right;\">\n",
       "      <th></th>\n",
       "      <th>1 -- I've worked in design for:</th>\n",
       "      <th>18 --My annual salary is:</th>\n",
       "    </tr>\n",
       "  </thead>\n",
       "  <tbody>\n",
       "    <tr>\n",
       "      <th>0</th>\n",
       "      <td>20+ years</td>\n",
       "      <td>170557.653846</td>\n",
       "    </tr>\n",
       "    <tr>\n",
       "      <th>1</th>\n",
       "      <td>15-20 years</td>\n",
       "      <td>80391.025641</td>\n",
       "    </tr>\n",
       "    <tr>\n",
       "      <th>2</th>\n",
       "      <td>10-14 years</td>\n",
       "      <td>65450.130435</td>\n",
       "    </tr>\n",
       "    <tr>\n",
       "      <th>3</th>\n",
       "      <td>5-9 years</td>\n",
       "      <td>59944.478723</td>\n",
       "    </tr>\n",
       "    <tr>\n",
       "      <th>4</th>\n",
       "      <td>1-4 years</td>\n",
       "      <td>42216.584507</td>\n",
       "    </tr>\n",
       "    <tr>\n",
       "      <th>5</th>\n",
       "      <td>Less than 1 year</td>\n",
       "      <td>36823.529412</td>\n",
       "    </tr>\n",
       "  </tbody>\n",
       "</table>\n",
       "</div>"
      ],
      "text/plain": [
       "  1 -- I've worked in design for:  18 --My annual salary is:\n",
       "0                       20+ years              170557.653846\n",
       "1                     15-20 years               80391.025641\n",
       "2                     10-14 years               65450.130435\n",
       "3                       5-9 years               59944.478723\n",
       "4                       1-4 years               42216.584507\n",
       "5                Less than 1 year               36823.529412"
      ]
     },
     "execution_count": 46,
     "metadata": {},
     "output_type": "execute_result"
    }
   ],
   "source": [
    "race_black.groupby(\"1 -- I've worked in design for:\")['18 --My annual salary is:'].mean().sort_values(ascending=False).reset_index()"
   ]
  },
  {
   "cell_type": "code",
   "execution_count": 47,
   "metadata": {},
   "outputs": [
    {
     "data": {
      "text/html": [
       "<div>\n",
       "<style scoped>\n",
       "    .dataframe tbody tr th:only-of-type {\n",
       "        vertical-align: middle;\n",
       "    }\n",
       "\n",
       "    .dataframe tbody tr th {\n",
       "        vertical-align: top;\n",
       "    }\n",
       "\n",
       "    .dataframe thead th {\n",
       "        text-align: right;\n",
       "    }\n",
       "</style>\n",
       "<table border=\"1\" class=\"dataframe\">\n",
       "  <thead>\n",
       "    <tr style=\"text-align: right;\">\n",
       "      <th></th>\n",
       "      <th>38 --I am:</th>\n",
       "      <th>18 --My annual salary is:</th>\n",
       "    </tr>\n",
       "  </thead>\n",
       "  <tbody>\n",
       "    <tr>\n",
       "      <th>0</th>\n",
       "      <td>Other</td>\n",
       "      <td>150000.000000</td>\n",
       "    </tr>\n",
       "    <tr>\n",
       "      <th>1</th>\n",
       "      <td>Male</td>\n",
       "      <td>73569.172043</td>\n",
       "    </tr>\n",
       "    <tr>\n",
       "      <th>2</th>\n",
       "      <td>Prefer not to say</td>\n",
       "      <td>60000.000000</td>\n",
       "    </tr>\n",
       "    <tr>\n",
       "      <th>3</th>\n",
       "      <td>Female</td>\n",
       "      <td>52630.041237</td>\n",
       "    </tr>\n",
       "    <tr>\n",
       "      <th>4</th>\n",
       "      <td>Non-binary or third gender</td>\n",
       "      <td>47450.000000</td>\n",
       "    </tr>\n",
       "  </tbody>\n",
       "</table>\n",
       "</div>"
      ],
      "text/plain": [
       "                   38 --I am:  18 --My annual salary is:\n",
       "0                       Other              150000.000000\n",
       "1                        Male               73569.172043\n",
       "2           Prefer not to say               60000.000000\n",
       "3                      Female               52630.041237\n",
       "4  Non-binary or third gender               47450.000000"
      ]
     },
     "execution_count": 47,
     "metadata": {},
     "output_type": "execute_result"
    }
   ],
   "source": [
    "race_black.groupby(\"38 --I am:\")['18 --My annual salary is:'].mean().sort_values(ascending=False).reset_index()"
   ]
  },
  {
   "cell_type": "code",
   "execution_count": 48,
   "metadata": {},
   "outputs": [],
   "source": [
    "#race_black['22 --My job is:'].value_counts().sort_values(ascending=False).reset_index().head()"
   ]
  },
  {
   "cell_type": "markdown",
   "metadata": {},
   "source": [
    "# Pay gap"
   ]
  },
  {
   "cell_type": "code",
   "execution_count": 49,
   "metadata": {},
   "outputs": [
    {
     "data": {
      "text/plain": [
       "68133.10908236032"
      ]
     },
     "execution_count": 49,
     "metadata": {},
     "output_type": "execute_result"
    }
   ],
   "source": [
    "# avg annual income\n",
    "data['18 --My annual salary is:'].mean()"
   ]
  },
  {
   "cell_type": "markdown",
   "metadata": {},
   "source": [
    "### 1) By gender "
   ]
  },
  {
   "cell_type": "code",
   "execution_count": 50,
   "metadata": {},
   "outputs": [
    {
     "data": {
      "text/html": [
       "<div>\n",
       "<style scoped>\n",
       "    .dataframe tbody tr th:only-of-type {\n",
       "        vertical-align: middle;\n",
       "    }\n",
       "\n",
       "    .dataframe tbody tr th {\n",
       "        vertical-align: top;\n",
       "    }\n",
       "\n",
       "    .dataframe thead th {\n",
       "        text-align: right;\n",
       "    }\n",
       "</style>\n",
       "<table border=\"1\" class=\"dataframe\">\n",
       "  <thead>\n",
       "    <tr style=\"text-align: right;\">\n",
       "      <th></th>\n",
       "      <th>38 --I am:</th>\n",
       "      <th>18 --My annual salary is:</th>\n",
       "    </tr>\n",
       "  </thead>\n",
       "  <tbody>\n",
       "    <tr>\n",
       "      <th>0</th>\n",
       "      <td>Male</td>\n",
       "      <td>75577.601048</td>\n",
       "    </tr>\n",
       "    <tr>\n",
       "      <th>1</th>\n",
       "      <td>Prefer not to say</td>\n",
       "      <td>70878.084112</td>\n",
       "    </tr>\n",
       "    <tr>\n",
       "      <th>2</th>\n",
       "      <td>Female</td>\n",
       "      <td>62081.313645</td>\n",
       "    </tr>\n",
       "    <tr>\n",
       "      <th>3</th>\n",
       "      <td>Non-binary or third gender</td>\n",
       "      <td>53145.154639</td>\n",
       "    </tr>\n",
       "    <tr>\n",
       "      <th>4</th>\n",
       "      <td>Other</td>\n",
       "      <td>49444.555556</td>\n",
       "    </tr>\n",
       "  </tbody>\n",
       "</table>\n",
       "</div>"
      ],
      "text/plain": [
       "                   38 --I am:  18 --My annual salary is:\n",
       "0                        Male               75577.601048\n",
       "1           Prefer not to say               70878.084112\n",
       "2                      Female               62081.313645\n",
       "3  Non-binary or third gender               53145.154639\n",
       "4                       Other               49444.555556"
      ]
     },
     "execution_count": 50,
     "metadata": {},
     "output_type": "execute_result"
    }
   ],
   "source": [
    "data.groupby('38 --I am:')['18 --My annual salary is:'].mean().sort_values(ascending=False).reset_index()"
   ]
  },
  {
   "cell_type": "markdown",
   "metadata": {},
   "source": [
    "### 2) By years at work"
   ]
  },
  {
   "cell_type": "code",
   "execution_count": 51,
   "metadata": {},
   "outputs": [
    {
     "data": {
      "text/html": [
       "<div>\n",
       "<style scoped>\n",
       "    .dataframe tbody tr th:only-of-type {\n",
       "        vertical-align: middle;\n",
       "    }\n",
       "\n",
       "    .dataframe tbody tr th {\n",
       "        vertical-align: top;\n",
       "    }\n",
       "\n",
       "    .dataframe thead th {\n",
       "        text-align: right;\n",
       "    }\n",
       "</style>\n",
       "<table border=\"1\" class=\"dataframe\">\n",
       "  <thead>\n",
       "    <tr style=\"text-align: right;\">\n",
       "      <th></th>\n",
       "      <th>1 -- I've worked in design for:</th>\n",
       "      <th>18 --My annual salary is:</th>\n",
       "    </tr>\n",
       "  </thead>\n",
       "  <tbody>\n",
       "    <tr>\n",
       "      <th>0</th>\n",
       "      <td>20+ years</td>\n",
       "      <td>96403.539787</td>\n",
       "    </tr>\n",
       "    <tr>\n",
       "      <th>1</th>\n",
       "      <td>15-20 years</td>\n",
       "      <td>92342.047096</td>\n",
       "    </tr>\n",
       "    <tr>\n",
       "      <th>2</th>\n",
       "      <td>10-14 years</td>\n",
       "      <td>80112.650864</td>\n",
       "    </tr>\n",
       "    <tr>\n",
       "      <th>3</th>\n",
       "      <td>5-9 years</td>\n",
       "      <td>67535.087531</td>\n",
       "    </tr>\n",
       "    <tr>\n",
       "      <th>4</th>\n",
       "      <td>1-4 years</td>\n",
       "      <td>51167.401941</td>\n",
       "    </tr>\n",
       "    <tr>\n",
       "      <th>5</th>\n",
       "      <td>Less than 1 year</td>\n",
       "      <td>35664.206081</td>\n",
       "    </tr>\n",
       "  </tbody>\n",
       "</table>\n",
       "</div>"
      ],
      "text/plain": [
       "  1 -- I've worked in design for:  18 --My annual salary is:\n",
       "0                       20+ years               96403.539787\n",
       "1                     15-20 years               92342.047096\n",
       "2                     10-14 years               80112.650864\n",
       "3                       5-9 years               67535.087531\n",
       "4                       1-4 years               51167.401941\n",
       "5                Less than 1 year               35664.206081"
      ]
     },
     "execution_count": 51,
     "metadata": {},
     "output_type": "execute_result"
    }
   ],
   "source": [
    "data.groupby(\"1 -- I've worked in design for:\")['18 --My annual salary is:'].mean().sort_values(ascending=False).reset_index()"
   ]
  },
  {
   "cell_type": "markdown",
   "metadata": {},
   "source": [
    "### 3) Contract vs. Full-time"
   ]
  },
  {
   "cell_type": "code",
   "execution_count": 52,
   "metadata": {},
   "outputs": [
    {
     "data": {
      "text/html": [
       "<div>\n",
       "<style scoped>\n",
       "    .dataframe tbody tr th:only-of-type {\n",
       "        vertical-align: middle;\n",
       "    }\n",
       "\n",
       "    .dataframe tbody tr th {\n",
       "        vertical-align: top;\n",
       "    }\n",
       "\n",
       "    .dataframe thead th {\n",
       "        text-align: right;\n",
       "    }\n",
       "</style>\n",
       "<table border=\"1\" class=\"dataframe\">\n",
       "  <thead>\n",
       "    <tr style=\"text-align: right;\">\n",
       "      <th></th>\n",
       "      <th>4 --I am currently:</th>\n",
       "      <th>18 --My annual salary is:</th>\n",
       "    </tr>\n",
       "  </thead>\n",
       "  <tbody>\n",
       "    <tr>\n",
       "      <th>0</th>\n",
       "      <td>A full-time employee in-house</td>\n",
       "      <td>76624.958115</td>\n",
       "    </tr>\n",
       "    <tr>\n",
       "      <th>1</th>\n",
       "      <td>A full-time employee at an agency or consultancy</td>\n",
       "      <td>68563.711661</td>\n",
       "    </tr>\n",
       "    <tr>\n",
       "      <th>2</th>\n",
       "      <td>An educator</td>\n",
       "      <td>61831.308483</td>\n",
       "    </tr>\n",
       "    <tr>\n",
       "      <th>3</th>\n",
       "      <td>A contract employee in-house</td>\n",
       "      <td>61262.208955</td>\n",
       "    </tr>\n",
       "    <tr>\n",
       "      <th>4</th>\n",
       "      <td>Self-employed or freelancing</td>\n",
       "      <td>53743.222832</td>\n",
       "    </tr>\n",
       "    <tr>\n",
       "      <th>5</th>\n",
       "      <td>A contract employee at an agency or consultancy</td>\n",
       "      <td>52392.527869</td>\n",
       "    </tr>\n",
       "    <tr>\n",
       "      <th>6</th>\n",
       "      <td>Other</td>\n",
       "      <td>41283.648352</td>\n",
       "    </tr>\n",
       "    <tr>\n",
       "      <th>7</th>\n",
       "      <td>Not working</td>\n",
       "      <td>NaN</td>\n",
       "    </tr>\n",
       "  </tbody>\n",
       "</table>\n",
       "</div>"
      ],
      "text/plain": [
       "                                4 --I am currently:  18 --My annual salary is:\n",
       "0                     A full-time employee in-house               76624.958115\n",
       "1  A full-time employee at an agency or consultancy               68563.711661\n",
       "2                                       An educator               61831.308483\n",
       "3                      A contract employee in-house               61262.208955\n",
       "4                      Self-employed or freelancing               53743.222832\n",
       "5   A contract employee at an agency or consultancy               52392.527869\n",
       "6                                             Other               41283.648352\n",
       "7                                       Not working                        NaN"
      ]
     },
     "execution_count": 52,
     "metadata": {},
     "output_type": "execute_result"
    }
   ],
   "source": [
    "data.groupby('4 --I am currently:')['18 --My annual salary is:'].mean().sort_values(ascending=False).reset_index()"
   ]
  },
  {
   "cell_type": "markdown",
   "metadata": {},
   "source": [
    "### 4) Company size"
   ]
  },
  {
   "cell_type": "code",
   "execution_count": 53,
   "metadata": {},
   "outputs": [
    {
     "data": {
      "text/html": [
       "<div>\n",
       "<style scoped>\n",
       "    .dataframe tbody tr th:only-of-type {\n",
       "        vertical-align: middle;\n",
       "    }\n",
       "\n",
       "    .dataframe tbody tr th {\n",
       "        vertical-align: top;\n",
       "    }\n",
       "\n",
       "    .dataframe thead th {\n",
       "        text-align: right;\n",
       "    }\n",
       "</style>\n",
       "<table border=\"1\" class=\"dataframe\">\n",
       "  <thead>\n",
       "    <tr style=\"text-align: right;\">\n",
       "      <th></th>\n",
       "      <th>9 --My organization has:</th>\n",
       "      <th>18 --My annual salary is:</th>\n",
       "    </tr>\n",
       "  </thead>\n",
       "  <tbody>\n",
       "    <tr>\n",
       "      <th>0</th>\n",
       "      <td>1000+ employees</td>\n",
       "      <td>91846.667354</td>\n",
       "    </tr>\n",
       "    <tr>\n",
       "      <th>1</th>\n",
       "      <td>501-1000 employees</td>\n",
       "      <td>76096.994543</td>\n",
       "    </tr>\n",
       "    <tr>\n",
       "      <th>2</th>\n",
       "      <td>251-500 employees</td>\n",
       "      <td>68101.799082</td>\n",
       "    </tr>\n",
       "    <tr>\n",
       "      <th>3</th>\n",
       "      <td>101-250 employees</td>\n",
       "      <td>67028.322019</td>\n",
       "    </tr>\n",
       "    <tr>\n",
       "      <th>4</th>\n",
       "      <td>51-100 employees</td>\n",
       "      <td>65563.709649</td>\n",
       "    </tr>\n",
       "    <tr>\n",
       "      <th>5</th>\n",
       "      <td>11-50 employees</td>\n",
       "      <td>60695.692117</td>\n",
       "    </tr>\n",
       "    <tr>\n",
       "      <th>6</th>\n",
       "      <td>1-10 employees</td>\n",
       "      <td>54695.479444</td>\n",
       "    </tr>\n",
       "    <tr>\n",
       "      <th>7</th>\n",
       "      <td>Not sure</td>\n",
       "      <td>37950.975610</td>\n",
       "    </tr>\n",
       "  </tbody>\n",
       "</table>\n",
       "</div>"
      ],
      "text/plain": [
       "  9 --My organization has:  18 --My annual salary is:\n",
       "0          1000+ employees               91846.667354\n",
       "1       501-1000 employees               76096.994543\n",
       "2        251-500 employees               68101.799082\n",
       "3        101-250 employees               67028.322019\n",
       "4         51-100 employees               65563.709649\n",
       "5          11-50 employees               60695.692117\n",
       "6           1-10 employees               54695.479444\n",
       "7                 Not sure               37950.975610"
      ]
     },
     "execution_count": 53,
     "metadata": {},
     "output_type": "execute_result"
    }
   ],
   "source": [
    "data.groupby('9 --My organization has:')['18 --My annual salary is:'].mean().sort_values(ascending=False).reset_index()"
   ]
  },
  {
   "cell_type": "markdown",
   "metadata": {},
   "source": [
    "### 5) Team size"
   ]
  },
  {
   "cell_type": "code",
   "execution_count": 54,
   "metadata": {},
   "outputs": [
    {
     "data": {
      "text/html": [
       "<div>\n",
       "<style scoped>\n",
       "    .dataframe tbody tr th:only-of-type {\n",
       "        vertical-align: middle;\n",
       "    }\n",
       "\n",
       "    .dataframe tbody tr th {\n",
       "        vertical-align: top;\n",
       "    }\n",
       "\n",
       "    .dataframe thead th {\n",
       "        text-align: right;\n",
       "    }\n",
       "</style>\n",
       "<table border=\"1\" class=\"dataframe\">\n",
       "  <thead>\n",
       "    <tr style=\"text-align: right;\">\n",
       "      <th></th>\n",
       "      <th>10 --My immediate team is:</th>\n",
       "      <th>18 --My annual salary is:</th>\n",
       "    </tr>\n",
       "  </thead>\n",
       "  <tbody>\n",
       "    <tr>\n",
       "      <th>0</th>\n",
       "      <td>20+ people</td>\n",
       "      <td>113202.028409</td>\n",
       "    </tr>\n",
       "    <tr>\n",
       "      <th>1</th>\n",
       "      <td>11-20 people</td>\n",
       "      <td>84201.368859</td>\n",
       "    </tr>\n",
       "    <tr>\n",
       "      <th>2</th>\n",
       "      <td>5-10 people</td>\n",
       "      <td>73472.123522</td>\n",
       "    </tr>\n",
       "    <tr>\n",
       "      <th>3</th>\n",
       "      <td>2-4 people</td>\n",
       "      <td>63011.809921</td>\n",
       "    </tr>\n",
       "    <tr>\n",
       "      <th>4</th>\n",
       "      <td>Just me</td>\n",
       "      <td>51613.452215</td>\n",
       "    </tr>\n",
       "  </tbody>\n",
       "</table>\n",
       "</div>"
      ],
      "text/plain": [
       "  10 --My immediate team is:  18 --My annual salary is:\n",
       "0                 20+ people              113202.028409\n",
       "1               11-20 people               84201.368859\n",
       "2                5-10 people               73472.123522\n",
       "3                 2-4 people               63011.809921\n",
       "4                    Just me               51613.452215"
      ]
     },
     "execution_count": 54,
     "metadata": {},
     "output_type": "execute_result"
    }
   ],
   "source": [
    "data.groupby('10 --My immediate team is:')['18 --My annual salary is:'].mean().sort_values(ascending=False).reset_index()"
   ]
  },
  {
   "cell_type": "markdown",
   "metadata": {},
   "source": [
    "### 6) Education"
   ]
  },
  {
   "cell_type": "code",
   "execution_count": 55,
   "metadata": {},
   "outputs": [
    {
     "data": {
      "text/html": [
       "<div>\n",
       "<style scoped>\n",
       "    .dataframe tbody tr th:only-of-type {\n",
       "        vertical-align: middle;\n",
       "    }\n",
       "\n",
       "    .dataframe tbody tr th {\n",
       "        vertical-align: top;\n",
       "    }\n",
       "\n",
       "    .dataframe thead th {\n",
       "        text-align: right;\n",
       "    }\n",
       "</style>\n",
       "<table border=\"1\" class=\"dataframe\">\n",
       "  <thead>\n",
       "    <tr style=\"text-align: right;\">\n",
       "      <th></th>\n",
       "      <th>26 --Highest level of education I've completed:</th>\n",
       "      <th>18 --My annual salary is:</th>\n",
       "    </tr>\n",
       "  </thead>\n",
       "  <tbody>\n",
       "    <tr>\n",
       "      <th>0</th>\n",
       "      <td>Doctorate</td>\n",
       "      <td>86929.681319</td>\n",
       "    </tr>\n",
       "    <tr>\n",
       "      <th>1</th>\n",
       "      <td>Master's degree</td>\n",
       "      <td>80833.364391</td>\n",
       "    </tr>\n",
       "    <tr>\n",
       "      <th>2</th>\n",
       "      <td>Bachelor's degree</td>\n",
       "      <td>66922.952272</td>\n",
       "    </tr>\n",
       "    <tr>\n",
       "      <th>3</th>\n",
       "      <td>Some college</td>\n",
       "      <td>62810.105023</td>\n",
       "    </tr>\n",
       "    <tr>\n",
       "      <th>4</th>\n",
       "      <td>High School or less</td>\n",
       "      <td>56120.990826</td>\n",
       "    </tr>\n",
       "    <tr>\n",
       "      <th>5</th>\n",
       "      <td>Associate's degree</td>\n",
       "      <td>54193.252708</td>\n",
       "    </tr>\n",
       "    <tr>\n",
       "      <th>6</th>\n",
       "      <td>Technical degree or certificate</td>\n",
       "      <td>51867.329932</td>\n",
       "    </tr>\n",
       "  </tbody>\n",
       "</table>\n",
       "</div>"
      ],
      "text/plain": [
       "  26 --Highest level of education I've completed:  18 --My annual salary is:\n",
       "0                                       Doctorate               86929.681319\n",
       "1                                 Master's degree               80833.364391\n",
       "2                               Bachelor's degree               66922.952272\n",
       "3                                    Some college               62810.105023\n",
       "4                             High School or less               56120.990826\n",
       "5                              Associate's degree               54193.252708\n",
       "6                 Technical degree or certificate               51867.329932"
      ]
     },
     "execution_count": 55,
     "metadata": {},
     "output_type": "execute_result"
    }
   ],
   "source": [
    "data.groupby(\"26 --Highest level of education I've completed:\")['18 --My annual salary is:'].mean().sort_values(ascending=False).reset_index()"
   ]
  },
  {
   "cell_type": "markdown",
   "metadata": {},
   "source": [
    "### 7) LGBT"
   ]
  },
  {
   "cell_type": "code",
   "execution_count": 56,
   "metadata": {},
   "outputs": [
    {
     "data": {
      "text/html": [
       "<div>\n",
       "<style scoped>\n",
       "    .dataframe tbody tr th:only-of-type {\n",
       "        vertical-align: middle;\n",
       "    }\n",
       "\n",
       "    .dataframe tbody tr th {\n",
       "        vertical-align: top;\n",
       "    }\n",
       "\n",
       "    .dataframe thead th {\n",
       "        text-align: right;\n",
       "    }\n",
       "</style>\n",
       "<table border=\"1\" class=\"dataframe\">\n",
       "  <thead>\n",
       "    <tr style=\"text-align: right;\">\n",
       "      <th></th>\n",
       "      <th>39 --I consider myself:</th>\n",
       "      <th>18 --My annual salary is:</th>\n",
       "    </tr>\n",
       "  </thead>\n",
       "  <tbody>\n",
       "    <tr>\n",
       "      <th>0</th>\n",
       "      <td>Not LGBTQ</td>\n",
       "      <td>69652.317915</td>\n",
       "    </tr>\n",
       "    <tr>\n",
       "      <th>1</th>\n",
       "      <td>LGBTQ</td>\n",
       "      <td>62107.280387</td>\n",
       "    </tr>\n",
       "    <tr>\n",
       "      <th>2</th>\n",
       "      <td>Prefer not to say</td>\n",
       "      <td>61868.132475</td>\n",
       "    </tr>\n",
       "  </tbody>\n",
       "</table>\n",
       "</div>"
      ],
      "text/plain": [
       "  39 --I consider myself:  18 --My annual salary is:\n",
       "0               Not LGBTQ               69652.317915\n",
       "1                   LGBTQ               62107.280387\n",
       "2       Prefer not to say               61868.132475"
      ]
     },
     "execution_count": 56,
     "metadata": {},
     "output_type": "execute_result"
    }
   ],
   "source": [
    "data.groupby(\"39 --I consider myself:\")['18 --My annual salary is:'].mean().sort_values(ascending=False).reset_index()"
   ]
  },
  {
   "cell_type": "markdown",
   "metadata": {},
   "source": [
    "# Coffee"
   ]
  },
  {
   "cell_type": "code",
   "execution_count": 57,
   "metadata": {},
   "outputs": [
    {
     "data": {
      "text/html": [
       "<div>\n",
       "<style scoped>\n",
       "    .dataframe tbody tr th:only-of-type {\n",
       "        vertical-align: middle;\n",
       "    }\n",
       "\n",
       "    .dataframe tbody tr th {\n",
       "        vertical-align: top;\n",
       "    }\n",
       "\n",
       "    .dataframe thead th {\n",
       "        text-align: right;\n",
       "    }\n",
       "</style>\n",
       "<table border=\"1\" class=\"dataframe\">\n",
       "  <thead>\n",
       "    <tr style=\"text-align: right;\">\n",
       "      <th></th>\n",
       "      <th>index</th>\n",
       "      <th>25 --I fuel my daily creativity with coffee:</th>\n",
       "    </tr>\n",
       "  </thead>\n",
       "  <tbody>\n",
       "    <tr>\n",
       "      <th>0</th>\n",
       "      <td>1-2 cups</td>\n",
       "      <td>6279</td>\n",
       "    </tr>\n",
       "    <tr>\n",
       "      <th>1</th>\n",
       "      <td>3-4 cups</td>\n",
       "      <td>2449</td>\n",
       "    </tr>\n",
       "    <tr>\n",
       "      <th>2</th>\n",
       "      <td>No way, tea</td>\n",
       "      <td>2252</td>\n",
       "    </tr>\n",
       "    <tr>\n",
       "      <th>3</th>\n",
       "      <td>Other</td>\n",
       "      <td>1542</td>\n",
       "    </tr>\n",
       "    <tr>\n",
       "      <th>4</th>\n",
       "      <td>5-6 cups</td>\n",
       "      <td>483</td>\n",
       "    </tr>\n",
       "    <tr>\n",
       "      <th>5</th>\n",
       "      <td>7-8 cups</td>\n",
       "      <td>103</td>\n",
       "    </tr>\n",
       "    <tr>\n",
       "      <th>6</th>\n",
       "      <td>10+ cups</td>\n",
       "      <td>30</td>\n",
       "    </tr>\n",
       "    <tr>\n",
       "      <th>7</th>\n",
       "      <td>9-10 cups</td>\n",
       "      <td>20</td>\n",
       "    </tr>\n",
       "  </tbody>\n",
       "</table>\n",
       "</div>"
      ],
      "text/plain": [
       "         index  25 --I fuel my daily creativity with coffee:\n",
       "0     1-2 cups                                          6279\n",
       "1     3-4 cups                                          2449\n",
       "2  No way, tea                                          2252\n",
       "3        Other                                          1542\n",
       "4     5-6 cups                                           483\n",
       "5     7-8 cups                                           103\n",
       "6     10+ cups                                            30\n",
       "7    9-10 cups                                            20"
      ]
     },
     "execution_count": 57,
     "metadata": {},
     "output_type": "execute_result"
    }
   ],
   "source": [
    "data['25 --I fuel my daily creativity with coffee:'].value_counts().reset_index()"
   ]
  },
  {
   "cell_type": "code",
   "execution_count": 58,
   "metadata": {},
   "outputs": [
    {
     "data": {
      "text/plain": [
       "0.4772001823985408"
      ]
     },
     "execution_count": 58,
     "metadata": {},
     "output_type": "execute_result"
    }
   ],
   "source": [
    "float(6279)/total"
   ]
  },
  {
   "cell_type": "markdown",
   "metadata": {},
   "source": [
    "# Job satisfaction"
   ]
  },
  {
   "cell_type": "code",
   "execution_count": 59,
   "metadata": {},
   "outputs": [
    {
     "data": {
      "text/html": [
       "<div>\n",
       "<style scoped>\n",
       "    .dataframe tbody tr th:only-of-type {\n",
       "        vertical-align: middle;\n",
       "    }\n",
       "\n",
       "    .dataframe tbody tr th {\n",
       "        vertical-align: top;\n",
       "    }\n",
       "\n",
       "    .dataframe thead th {\n",
       "        text-align: right;\n",
       "    }\n",
       "</style>\n",
       "<table border=\"1\" class=\"dataframe\">\n",
       "  <thead>\n",
       "    <tr style=\"text-align: right;\">\n",
       "      <th></th>\n",
       "      <th>index</th>\n",
       "      <th>22 --My job is:</th>\n",
       "    </tr>\n",
       "  </thead>\n",
       "  <tbody>\n",
       "    <tr>\n",
       "      <th>0</th>\n",
       "      <td>Pretty good</td>\n",
       "      <td>8175</td>\n",
       "    </tr>\n",
       "    <tr>\n",
       "      <th>1</th>\n",
       "      <td>The best</td>\n",
       "      <td>2239</td>\n",
       "    </tr>\n",
       "    <tr>\n",
       "      <th>2</th>\n",
       "      <td>Not great</td>\n",
       "      <td>1971</td>\n",
       "    </tr>\n",
       "    <tr>\n",
       "      <th>3</th>\n",
       "      <td>Not sure</td>\n",
       "      <td>211</td>\n",
       "    </tr>\n",
       "    <tr>\n",
       "      <th>4</th>\n",
       "      <td>The worst</td>\n",
       "      <td>163</td>\n",
       "    </tr>\n",
       "  </tbody>\n",
       "</table>\n",
       "</div>"
      ],
      "text/plain": [
       "         index  22 --My job is:\n",
       "0  Pretty good             8175\n",
       "1     The best             2239\n",
       "2    Not great             1971\n",
       "3     Not sure              211\n",
       "4    The worst              163"
      ]
     },
     "execution_count": 59,
     "metadata": {},
     "output_type": "execute_result"
    }
   ],
   "source": [
    "data['22 --My job is:'].value_counts().reset_index()"
   ]
  },
  {
   "cell_type": "code",
   "execution_count": 60,
   "metadata": {},
   "outputs": [
    {
     "data": {
      "text/plain": [
       "0.7914576683386533"
      ]
     },
     "execution_count": 60,
     "metadata": {},
     "output_type": "execute_result"
    }
   ],
   "source": [
    "float(8175 + 2239)/total"
   ]
  },
  {
   "cell_type": "code",
   "execution_count": 61,
   "metadata": {},
   "outputs": [
    {
     "data": {
      "text/html": [
       "<div>\n",
       "<style scoped>\n",
       "    .dataframe tbody tr th:only-of-type {\n",
       "        vertical-align: middle;\n",
       "    }\n",
       "\n",
       "    .dataframe tbody tr th {\n",
       "        vertical-align: top;\n",
       "    }\n",
       "\n",
       "    .dataframe thead th {\n",
       "        text-align: right;\n",
       "    }\n",
       "</style>\n",
       "<table border=\"1\" class=\"dataframe\">\n",
       "  <thead>\n",
       "    <tr style=\"text-align: right;\">\n",
       "      <th></th>\n",
       "      <th>22 --My job is:</th>\n",
       "      <th>18 --My annual salary is:</th>\n",
       "    </tr>\n",
       "  </thead>\n",
       "  <tbody>\n",
       "    <tr>\n",
       "      <th>0</th>\n",
       "      <td>The best</td>\n",
       "      <td>74610.825290</td>\n",
       "    </tr>\n",
       "    <tr>\n",
       "      <th>1</th>\n",
       "      <td>Pretty good</td>\n",
       "      <td>69432.999633</td>\n",
       "    </tr>\n",
       "    <tr>\n",
       "      <th>2</th>\n",
       "      <td>Not great</td>\n",
       "      <td>58994.336885</td>\n",
       "    </tr>\n",
       "    <tr>\n",
       "      <th>3</th>\n",
       "      <td>The worst</td>\n",
       "      <td>55054.687117</td>\n",
       "    </tr>\n",
       "    <tr>\n",
       "      <th>4</th>\n",
       "      <td>Not sure</td>\n",
       "      <td>44846.701422</td>\n",
       "    </tr>\n",
       "  </tbody>\n",
       "</table>\n",
       "</div>"
      ],
      "text/plain": [
       "  22 --My job is:  18 --My annual salary is:\n",
       "0        The best               74610.825290\n",
       "1     Pretty good               69432.999633\n",
       "2       Not great               58994.336885\n",
       "3       The worst               55054.687117\n",
       "4        Not sure               44846.701422"
      ]
     },
     "execution_count": 61,
     "metadata": {},
     "output_type": "execute_result"
    }
   ],
   "source": [
    "data.groupby('22 --My job is:')['18 --My annual salary is:'].mean().sort_values(ascending=False).reset_index()"
   ]
  },
  {
   "cell_type": "code",
   "execution_count": 62,
   "metadata": {},
   "outputs": [],
   "source": [
    "#data.groupby('22 --My job is:')['38 --I am:'].value_counts()"
   ]
  },
  {
   "cell_type": "code",
   "execution_count": 63,
   "metadata": {},
   "outputs": [],
   "source": [
    "#data.groupby('22 --My job is:')['17 --I typically work:'].value_counts()"
   ]
  },
  {
   "cell_type": "markdown",
   "metadata": {},
   "source": [
    "# Working hour"
   ]
  },
  {
   "cell_type": "code",
   "execution_count": 64,
   "metadata": {},
   "outputs": [
    {
     "data": {
      "text/plain": [
       "40 hours per week              5626\n",
       "41-50 hours per week           4150\n",
       "Less than 40 hours per week    1991\n",
       "51-60 hours per week            727\n",
       "60+ hours per week              263\n",
       "Name: 17 --I typically work:, dtype: int64"
      ]
     },
     "execution_count": 64,
     "metadata": {},
     "output_type": "execute_result"
    }
   ],
   "source": [
    "data['17 --I typically work:'].value_counts()"
   ]
  },
  {
   "cell_type": "code",
   "execution_count": 65,
   "metadata": {},
   "outputs": [
    {
     "data": {
      "text/html": [
       "<div>\n",
       "<style scoped>\n",
       "    .dataframe tbody tr th:only-of-type {\n",
       "        vertical-align: middle;\n",
       "    }\n",
       "\n",
       "    .dataframe tbody tr th {\n",
       "        vertical-align: top;\n",
       "    }\n",
       "\n",
       "    .dataframe thead th {\n",
       "        text-align: right;\n",
       "    }\n",
       "</style>\n",
       "<table border=\"1\" class=\"dataframe\">\n",
       "  <thead>\n",
       "    <tr style=\"text-align: right;\">\n",
       "      <th></th>\n",
       "      <th>17 --I typically work:</th>\n",
       "      <th>18 --My annual salary is:</th>\n",
       "    </tr>\n",
       "  </thead>\n",
       "  <tbody>\n",
       "    <tr>\n",
       "      <th>0</th>\n",
       "      <td>51-60 hours per week</td>\n",
       "      <td>85607.940853</td>\n",
       "    </tr>\n",
       "    <tr>\n",
       "      <th>1</th>\n",
       "      <td>60+ hours per week</td>\n",
       "      <td>80931.783270</td>\n",
       "    </tr>\n",
       "    <tr>\n",
       "      <th>2</th>\n",
       "      <td>41-50 hours per week</td>\n",
       "      <td>75580.351325</td>\n",
       "    </tr>\n",
       "    <tr>\n",
       "      <th>3</th>\n",
       "      <td>40 hours per week</td>\n",
       "      <td>67086.755378</td>\n",
       "    </tr>\n",
       "    <tr>\n",
       "      <th>4</th>\n",
       "      <td>Less than 40 hours per week</td>\n",
       "      <td>47555.859367</td>\n",
       "    </tr>\n",
       "  </tbody>\n",
       "</table>\n",
       "</div>"
      ],
      "text/plain": [
       "        17 --I typically work:  18 --My annual salary is:\n",
       "0         51-60 hours per week               85607.940853\n",
       "1           60+ hours per week               80931.783270\n",
       "2         41-50 hours per week               75580.351325\n",
       "3            40 hours per week               67086.755378\n",
       "4  Less than 40 hours per week               47555.859367"
      ]
     },
     "execution_count": 65,
     "metadata": {},
     "output_type": "execute_result"
    }
   ],
   "source": [
    "data.groupby('17 --I typically work:')['18 --My annual salary is:'].mean().sort_values(ascending=False).reset_index()"
   ]
  },
  {
   "cell_type": "code",
   "execution_count": null,
   "metadata": {},
   "outputs": [],
   "source": []
  }
 ],
 "metadata": {
  "kernelspec": {
   "display_name": "Python 2",
   "language": "python",
   "name": "python2"
  },
  "language_info": {
   "codemirror_mode": {
    "name": "ipython",
    "version": 2
   },
   "file_extension": ".py",
   "mimetype": "text/x-python",
   "name": "python",
   "nbconvert_exporter": "python",
   "pygments_lexer": "ipython2",
   "version": "2.7.10"
  }
 },
 "nbformat": 4,
 "nbformat_minor": 2
}
