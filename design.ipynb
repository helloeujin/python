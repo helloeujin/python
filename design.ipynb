{
 "cells": [
  {
   "cell_type": "markdown",
   "metadata": {},
   "source": [
    "## Interesting Findings\n",
    "\n",
    "#### 1) Asian designers are younger and make more money\n",
    "#### 2) The main challenge for all the designers is 'Design not having a seat at the table'\n",
    "#### 3) 'Diversity in design and tech' => Fourth biggest challenge to White, First for Black, Second for Asian & Latino\n",
    "\n",
    "\n",
    "Note: Data analysis includes only 4 ethnicity groups (White, Latino, Asian, Black).\n",
    "\n"
   ]
  },
  {
   "cell_type": "code",
   "execution_count": 196,
   "metadata": {},
   "outputs": [],
   "source": [
    "import pandas as pd"
   ]
  },
  {
   "cell_type": "code",
   "execution_count": 197,
   "metadata": {},
   "outputs": [],
   "source": [
    "data = pd.read_csv(\"data/DesignCensus2017_Data.csv\")"
   ]
  },
  {
   "cell_type": "code",
   "execution_count": 198,
   "metadata": {},
   "outputs": [
    {
     "data": {
      "text/html": [
       "<div>\n",
       "<style scoped>\n",
       "    .dataframe tbody tr th:only-of-type {\n",
       "        vertical-align: middle;\n",
       "    }\n",
       "\n",
       "    .dataframe tbody tr th {\n",
       "        vertical-align: top;\n",
       "    }\n",
       "\n",
       "    .dataframe thead th {\n",
       "        text-align: right;\n",
       "    }\n",
       "</style>\n",
       "<table border=\"1\" class=\"dataframe\">\n",
       "  <thead>\n",
       "    <tr style=\"text-align: right;\">\n",
       "      <th></th>\n",
       "      <th>1 -- I've worked in design for:</th>\n",
       "      <th>2 --I primarily work in:</th>\n",
       "      <th>3 --I'm also good at:</th>\n",
       "      <th>4 --I am currently:</th>\n",
       "      <th>5 --My company specializes in:</th>\n",
       "      <th>6 --My company is:</th>\n",
       "      <th>7 --I teach:</th>\n",
       "      <th>8 --I'm not working because:</th>\n",
       "      <th>9 --My organization has:</th>\n",
       "      <th>10 --My immediate team is:</th>\n",
       "      <th>...</th>\n",
       "      <th>34 --I am:</th>\n",
       "      <th>35 --Right now, I can't stop listening to:</th>\n",
       "      <th>36 --I live in:</th>\n",
       "      <th>37 --My age is:</th>\n",
       "      <th>38 --I am:</th>\n",
       "      <th>39 --I consider myself:</th>\n",
       "      <th>40 --My ethnicity is:</th>\n",
       "      <th>41 --The most critical issues and challenges currently facing design are (answer optional):</th>\n",
       "      <th>42 --The emerging trends and technologies that will have the biggest impact on design are (answer optional):</th>\n",
       "      <th>43 --The most valuable design skills for the future will be (answer optional):</th>\n",
       "    </tr>\n",
       "  </thead>\n",
       "  <tbody>\n",
       "    <tr>\n",
       "      <th>0</th>\n",
       "      <td>10-14 years</td>\n",
       "      <td>Graphic Design|Marketing|Photography|Web Design</td>\n",
       "      <td>Brainstorming and Ideation|Facilitation|Leader...</td>\n",
       "      <td>A full-time employee at an agency or consultancy</td>\n",
       "      <td>Advertising|Branding|Innovation|Strategy</td>\n",
       "      <td>NaN</td>\n",
       "      <td>NaN</td>\n",
       "      <td>NaN</td>\n",
       "      <td>1-10 employees</td>\n",
       "      <td>2-4 people</td>\n",
       "      <td>...</td>\n",
       "      <td>Not interested in a new job right now</td>\n",
       "      <td>Looking Glass</td>\n",
       "      <td>76051.0</td>\n",
       "      <td>24</td>\n",
       "      <td>Male</td>\n",
       "      <td>Not LGBTQ</td>\n",
       "      <td>White or Caucasian</td>\n",
       "      <td>Design not having a \"seat at the table\"|Genera...</td>\n",
       "      <td>AI and machine learning|Augmented Reality|Beha...</td>\n",
       "      <td>Adaptability to tech and social change|Asking ...</td>\n",
       "    </tr>\n",
       "    <tr>\n",
       "      <th>1</th>\n",
       "      <td>1-4 years</td>\n",
       "      <td>Graphic Design|Interaction Design|UI Design|We...</td>\n",
       "      <td>Brainstorming and Ideation|Diversity and Inclu...</td>\n",
       "      <td>A full-time employee at an agency or consultancy</td>\n",
       "      <td>Digital</td>\n",
       "      <td>NaN</td>\n",
       "      <td>NaN</td>\n",
       "      <td>NaN</td>\n",
       "      <td>1-10 employees</td>\n",
       "      <td>Just me</td>\n",
       "      <td>...</td>\n",
       "      <td>Working hard to find my next job</td>\n",
       "      <td>dua lipa</td>\n",
       "      <td>60638.0</td>\n",
       "      <td>25</td>\n",
       "      <td>Female</td>\n",
       "      <td>Not LGBTQ</td>\n",
       "      <td>White or Caucasian</td>\n",
       "      <td>Education cost and equity of access|Generation...</td>\n",
       "      <td>AI and machine learning|Algorithmic design|Beh...</td>\n",
       "      <td>Empathy|Interpersonal skills|Managing complexi...</td>\n",
       "    </tr>\n",
       "    <tr>\n",
       "      <th>2</th>\n",
       "      <td>15-20 years</td>\n",
       "      <td>Communication Design|Marketing|Research|Strategy</td>\n",
       "      <td>Mentoring|Project Management|Social Media</td>\n",
       "      <td>A full-time employee in-house</td>\n",
       "      <td>NaN</td>\n",
       "      <td>Non-Profit</td>\n",
       "      <td>NaN</td>\n",
       "      <td>NaN</td>\n",
       "      <td>11-50 employees</td>\n",
       "      <td>2-4 people</td>\n",
       "      <td>...</td>\n",
       "      <td>Working hard to find my next job</td>\n",
       "      <td>Sia</td>\n",
       "      <td>10005.0</td>\n",
       "      <td>43</td>\n",
       "      <td>Male</td>\n",
       "      <td>Not LGBTQ</td>\n",
       "      <td>White or Caucasian</td>\n",
       "      <td>None of these</td>\n",
       "      <td>None of these</td>\n",
       "      <td>None of these</td>\n",
       "    </tr>\n",
       "    <tr>\n",
       "      <th>3</th>\n",
       "      <td>10-14 years</td>\n",
       "      <td>Communication Design|Graphic Design|Illustrati...</td>\n",
       "      <td>Brainstorming and Ideation|Drawing or Painting...</td>\n",
       "      <td>A full-time employee in-house</td>\n",
       "      <td>NaN</td>\n",
       "      <td>For-Profit/Corporate</td>\n",
       "      <td>NaN</td>\n",
       "      <td>NaN</td>\n",
       "      <td>1000+ employees</td>\n",
       "      <td>11-20 people</td>\n",
       "      <td>...</td>\n",
       "      <td>Open to opportunities, but not actively looking</td>\n",
       "      <td>My cats, begging for breakfast</td>\n",
       "      <td>11217.0</td>\n",
       "      <td>34</td>\n",
       "      <td>Male</td>\n",
       "      <td>Not LGBTQ</td>\n",
       "      <td>White or Caucasian</td>\n",
       "      <td>Advertising supported content model|Algorithm ...</td>\n",
       "      <td>AI and machine learning|Algorithmic design|Con...</td>\n",
       "      <td>Adaptability to tech and social change|Communi...</td>\n",
       "    </tr>\n",
       "    <tr>\n",
       "      <th>4</th>\n",
       "      <td>15-20 years</td>\n",
       "      <td>Communication Design|Environmental Design|Grap...</td>\n",
       "      <td>Brainstorming and Ideation|Business|Drawing or...</td>\n",
       "      <td>A full-time employee at an agency or consultancy</td>\n",
       "      <td>Advertising|Branding|Digital|Innovation|Print|...</td>\n",
       "      <td>NaN</td>\n",
       "      <td>NaN</td>\n",
       "      <td>NaN</td>\n",
       "      <td>11-50 employees</td>\n",
       "      <td>5-10 people</td>\n",
       "      <td>...</td>\n",
       "      <td>Not interested in a new job right now</td>\n",
       "      <td>Big Little Lies Soundtrack</td>\n",
       "      <td>94114.0</td>\n",
       "      <td>39</td>\n",
       "      <td>Male</td>\n",
       "      <td>LGBTQ</td>\n",
       "      <td>White or Caucasian</td>\n",
       "      <td>Advertising supported content model|Algorithm ...</td>\n",
       "      <td>3D printing|AI and machine learning|Algorithmi...</td>\n",
       "      <td>Adaptability to tech and social change|Psychol...</td>\n",
       "    </tr>\n",
       "  </tbody>\n",
       "</table>\n",
       "<p>5 rows × 43 columns</p>\n",
       "</div>"
      ],
      "text/plain": [
       "  1 -- I've worked in design for:  \\\n",
       "0                     10-14 years   \n",
       "1                       1-4 years   \n",
       "2                     15-20 years   \n",
       "3                     10-14 years   \n",
       "4                     15-20 years   \n",
       "\n",
       "                            2 --I primarily work in:  \\\n",
       "0    Graphic Design|Marketing|Photography|Web Design   \n",
       "1  Graphic Design|Interaction Design|UI Design|We...   \n",
       "2   Communication Design|Marketing|Research|Strategy   \n",
       "3  Communication Design|Graphic Design|Illustrati...   \n",
       "4  Communication Design|Environmental Design|Grap...   \n",
       "\n",
       "                               3 --I'm also good at:  \\\n",
       "0  Brainstorming and Ideation|Facilitation|Leader...   \n",
       "1  Brainstorming and Ideation|Diversity and Inclu...   \n",
       "2          Mentoring|Project Management|Social Media   \n",
       "3  Brainstorming and Ideation|Drawing or Painting...   \n",
       "4  Brainstorming and Ideation|Business|Drawing or...   \n",
       "\n",
       "                                4 --I am currently:  \\\n",
       "0  A full-time employee at an agency or consultancy   \n",
       "1  A full-time employee at an agency or consultancy   \n",
       "2                     A full-time employee in-house   \n",
       "3                     A full-time employee in-house   \n",
       "4  A full-time employee at an agency or consultancy   \n",
       "\n",
       "                      5 --My company specializes in:    6 --My company is:  \\\n",
       "0           Advertising|Branding|Innovation|Strategy                   NaN   \n",
       "1                                            Digital                   NaN   \n",
       "2                                                NaN            Non-Profit   \n",
       "3                                                NaN  For-Profit/Corporate   \n",
       "4  Advertising|Branding|Digital|Innovation|Print|...                   NaN   \n",
       "\n",
       "  7 --I teach: 8 --I'm not working because: 9 --My organization has:  \\\n",
       "0          NaN                          NaN           1-10 employees   \n",
       "1          NaN                          NaN           1-10 employees   \n",
       "2          NaN                          NaN          11-50 employees   \n",
       "3          NaN                          NaN          1000+ employees   \n",
       "4          NaN                          NaN          11-50 employees   \n",
       "\n",
       "  10 --My immediate team is:  \\\n",
       "0                 2-4 people   \n",
       "1                    Just me   \n",
       "2                 2-4 people   \n",
       "3               11-20 people   \n",
       "4                5-10 people   \n",
       "\n",
       "                                       ...                                        \\\n",
       "0                                      ...                                         \n",
       "1                                      ...                                         \n",
       "2                                      ...                                         \n",
       "3                                      ...                                         \n",
       "4                                      ...                                         \n",
       "\n",
       "                                        34 --I am:  \\\n",
       "0            Not interested in a new job right now   \n",
       "1                 Working hard to find my next job   \n",
       "2                 Working hard to find my next job   \n",
       "3  Open to opportunities, but not actively looking   \n",
       "4            Not interested in a new job right now   \n",
       "\n",
       "  35 --Right now, I can't stop listening to: 36 --I live in: 37 --My age is:  \\\n",
       "0                              Looking Glass         76051.0              24   \n",
       "1                                   dua lipa         60638.0              25   \n",
       "2                                        Sia         10005.0              43   \n",
       "3             My cats, begging for breakfast         11217.0              34   \n",
       "4                 Big Little Lies Soundtrack         94114.0              39   \n",
       "\n",
       "  38 --I am: 39 --I consider myself: 40 --My ethnicity is:  \\\n",
       "0       Male               Not LGBTQ    White or Caucasian   \n",
       "1     Female               Not LGBTQ    White or Caucasian   \n",
       "2       Male               Not LGBTQ    White or Caucasian   \n",
       "3       Male               Not LGBTQ    White or Caucasian   \n",
       "4       Male                   LGBTQ    White or Caucasian   \n",
       "\n",
       "   41 --The most critical issues and challenges currently facing design are (answer optional):  \\\n",
       "0  Design not having a \"seat at the table\"|Genera...                                             \n",
       "1  Education cost and equity of access|Generation...                                             \n",
       "2                                      None of these                                             \n",
       "3  Advertising supported content model|Algorithm ...                                             \n",
       "4  Advertising supported content model|Algorithm ...                                             \n",
       "\n",
       "  42 --The emerging trends and technologies that will have the biggest impact on design are (answer optional):  \\\n",
       "0  AI and machine learning|Augmented Reality|Beha...                                                             \n",
       "1  AI and machine learning|Algorithmic design|Beh...                                                             \n",
       "2                                      None of these                                                             \n",
       "3  AI and machine learning|Algorithmic design|Con...                                                             \n",
       "4  3D printing|AI and machine learning|Algorithmi...                                                             \n",
       "\n",
       "  43 --The most valuable design skills for the future will be (answer optional):  \n",
       "0  Adaptability to tech and social change|Asking ...                              \n",
       "1  Empathy|Interpersonal skills|Managing complexi...                              \n",
       "2                                      None of these                              \n",
       "3  Adaptability to tech and social change|Communi...                              \n",
       "4  Adaptability to tech and social change|Psychol...                              \n",
       "\n",
       "[5 rows x 43 columns]"
      ]
     },
     "execution_count": 198,
     "metadata": {},
     "output_type": "execute_result"
    }
   ],
   "source": [
    "data.head()"
   ]
  },
  {
   "cell_type": "code",
   "execution_count": 199,
   "metadata": {},
   "outputs": [],
   "source": [
    "# data.info()"
   ]
  },
  {
   "cell_type": "code",
   "execution_count": 200,
   "metadata": {},
   "outputs": [
    {
     "data": {
      "text/html": [
       "<div>\n",
       "<style scoped>\n",
       "    .dataframe tbody tr th:only-of-type {\n",
       "        vertical-align: middle;\n",
       "    }\n",
       "\n",
       "    .dataframe tbody tr th {\n",
       "        vertical-align: top;\n",
       "    }\n",
       "\n",
       "    .dataframe thead th {\n",
       "        text-align: right;\n",
       "    }\n",
       "</style>\n",
       "<table border=\"1\" class=\"dataframe\">\n",
       "  <thead>\n",
       "    <tr style=\"text-align: right;\">\n",
       "      <th></th>\n",
       "      <th>index</th>\n",
       "      <th>40 --My ethnicity is:</th>\n",
       "    </tr>\n",
       "  </thead>\n",
       "  <tbody>\n",
       "    <tr>\n",
       "      <th>0</th>\n",
       "      <td>White or Caucasian</td>\n",
       "      <td>8954</td>\n",
       "    </tr>\n",
       "    <tr>\n",
       "      <th>1</th>\n",
       "      <td>Asian</td>\n",
       "      <td>1377</td>\n",
       "    </tr>\n",
       "    <tr>\n",
       "      <th>2</th>\n",
       "      <td>Latina, Latino, Latinx, or Hispanic</td>\n",
       "      <td>899</td>\n",
       "    </tr>\n",
       "    <tr>\n",
       "      <th>3</th>\n",
       "      <td>Black or African American</td>\n",
       "      <td>409</td>\n",
       "    </tr>\n",
       "    <tr>\n",
       "      <th>4</th>\n",
       "      <td>Prefer not to say</td>\n",
       "      <td>352</td>\n",
       "    </tr>\n",
       "  </tbody>\n",
       "</table>\n",
       "</div>"
      ],
      "text/plain": [
       "                                 index  40 --My ethnicity is:\n",
       "0                   White or Caucasian                   8954\n",
       "1                                Asian                   1377\n",
       "2  Latina, Latino, Latinx, or Hispanic                    899\n",
       "3            Black or African American                    409\n",
       "4                    Prefer not to say                    352"
      ]
     },
     "execution_count": 200,
     "metadata": {},
     "output_type": "execute_result"
    }
   ],
   "source": [
    "data[\"40 --My ethnicity is:\"].value_counts().reset_index().head()"
   ]
  },
  {
   "cell_type": "markdown",
   "metadata": {},
   "source": [
    "# By Ethnicity "
   ]
  },
  {
   "cell_type": "code",
   "execution_count": 201,
   "metadata": {},
   "outputs": [],
   "source": [
    "ethnicity = data[\"40 --My ethnicity is:\"].value_counts()"
   ]
  },
  {
   "cell_type": "code",
   "execution_count": 202,
   "metadata": {},
   "outputs": [],
   "source": [
    "total = ethnicity.sum()"
   ]
  },
  {
   "cell_type": "code",
   "execution_count": 203,
   "metadata": {},
   "outputs": [
    {
     "data": {
      "text/plain": [
       "13158"
      ]
     },
     "execution_count": 203,
     "metadata": {},
     "output_type": "execute_result"
    }
   ],
   "source": [
    "total"
   ]
  },
  {
   "cell_type": "markdown",
   "metadata": {},
   "source": [
    "## 1) White"
   ]
  },
  {
   "cell_type": "code",
   "execution_count": 204,
   "metadata": {},
   "outputs": [],
   "source": [
    "race_white = data[data['40 --My ethnicity is:'] == 'White or Caucasian'] "
   ]
  },
  {
   "cell_type": "code",
   "execution_count": 205,
   "metadata": {},
   "outputs": [
    {
     "data": {
      "text/plain": [
       "68.04985560115519"
      ]
     },
     "execution_count": 205,
     "metadata": {},
     "output_type": "execute_result"
    }
   ],
   "source": [
    "float(len(race_white))*100/total  #pct of white"
   ]
  },
  {
   "cell_type": "code",
   "execution_count": 206,
   "metadata": {},
   "outputs": [
    {
     "data": {
      "text/plain": [
       "33.188184051820414"
      ]
     },
     "execution_count": 206,
     "metadata": {},
     "output_type": "execute_result"
    }
   ],
   "source": [
    "race_white['37 --My age is:'].mean() #avg age"
   ]
  },
  {
   "cell_type": "code",
   "execution_count": 207,
   "metadata": {},
   "outputs": [
    {
     "data": {
      "text/plain": [
       "49654.37394736842"
      ]
     },
     "execution_count": 207,
     "metadata": {},
     "output_type": "execute_result"
    }
   ],
   "source": [
    "race_white['36 --I live in:'].mean() #avg income"
   ]
  },
  {
   "cell_type": "code",
   "execution_count": 208,
   "metadata": {},
   "outputs": [
    {
     "data": {
      "text/html": [
       "<div>\n",
       "<style scoped>\n",
       "    .dataframe tbody tr th:only-of-type {\n",
       "        vertical-align: middle;\n",
       "    }\n",
       "\n",
       "    .dataframe tbody tr th {\n",
       "        vertical-align: top;\n",
       "    }\n",
       "\n",
       "    .dataframe thead th {\n",
       "        text-align: right;\n",
       "    }\n",
       "</style>\n",
       "<table border=\"1\" class=\"dataframe\">\n",
       "  <thead>\n",
       "    <tr style=\"text-align: right;\">\n",
       "      <th></th>\n",
       "      <th>index</th>\n",
       "      <th>38 --I am:</th>\n",
       "    </tr>\n",
       "  </thead>\n",
       "  <tbody>\n",
       "    <tr>\n",
       "      <th>0</th>\n",
       "      <td>Female</td>\n",
       "      <td>4872</td>\n",
       "    </tr>\n",
       "    <tr>\n",
       "      <th>1</th>\n",
       "      <td>Male</td>\n",
       "      <td>4000</td>\n",
       "    </tr>\n",
       "    <tr>\n",
       "      <th>2</th>\n",
       "      <td>Non-binary or third gender</td>\n",
       "      <td>58</td>\n",
       "    </tr>\n",
       "    <tr>\n",
       "      <th>3</th>\n",
       "      <td>Prefer not to say</td>\n",
       "      <td>24</td>\n",
       "    </tr>\n",
       "  </tbody>\n",
       "</table>\n",
       "</div>"
      ],
      "text/plain": [
       "                        index  38 --I am:\n",
       "0                      Female        4872\n",
       "1                        Male        4000\n",
       "2  Non-binary or third gender          58\n",
       "3           Prefer not to say          24"
      ]
     },
     "execution_count": 208,
     "metadata": {},
     "output_type": "execute_result"
    }
   ],
   "source": [
    "race_white['38 --I am:'].value_counts().reset_index() #gender"
   ]
  },
  {
   "cell_type": "code",
   "execution_count": 209,
   "metadata": {},
   "outputs": [],
   "source": [
    "white_challenges = race_white['41 --The most critical issues and challenges currently facing design are (answer optional):']"
   ]
  },
  {
   "cell_type": "code",
   "execution_count": 210,
   "metadata": {},
   "outputs": [
    {
     "data": {
      "text/html": [
       "<div>\n",
       "<style scoped>\n",
       "    .dataframe tbody tr th:only-of-type {\n",
       "        vertical-align: middle;\n",
       "    }\n",
       "\n",
       "    .dataframe tbody tr th {\n",
       "        vertical-align: top;\n",
       "    }\n",
       "\n",
       "    .dataframe thead th {\n",
       "        text-align: right;\n",
       "    }\n",
       "</style>\n",
       "<table border=\"1\" class=\"dataframe\">\n",
       "  <thead>\n",
       "    <tr style=\"text-align: right;\">\n",
       "      <th></th>\n",
       "      <th>index</th>\n",
       "      <th>41 --The most critical issues and challenges currently facing design are (answer optional):</th>\n",
       "    </tr>\n",
       "  </thead>\n",
       "  <tbody>\n",
       "    <tr>\n",
       "      <th>0</th>\n",
       "      <td>None of these</td>\n",
       "      <td>483</td>\n",
       "    </tr>\n",
       "    <tr>\n",
       "      <th>1</th>\n",
       "      <td>Design not having a \"seat at the table\"</td>\n",
       "      <td>459</td>\n",
       "    </tr>\n",
       "    <tr>\n",
       "      <th>2</th>\n",
       "      <td>Design not having a \"seat at the table\"|Genera...</td>\n",
       "      <td>173</td>\n",
       "    </tr>\n",
       "    <tr>\n",
       "      <th>3</th>\n",
       "      <td>Generational differences in the workforce</td>\n",
       "      <td>152</td>\n",
       "    </tr>\n",
       "    <tr>\n",
       "      <th>4</th>\n",
       "      <td>Design not having a \"seat at the table\"|Divers...</td>\n",
       "      <td>114</td>\n",
       "    </tr>\n",
       "  </tbody>\n",
       "</table>\n",
       "</div>"
      ],
      "text/plain": [
       "                                               index  \\\n",
       "0                                      None of these   \n",
       "1            Design not having a \"seat at the table\"   \n",
       "2  Design not having a \"seat at the table\"|Genera...   \n",
       "3          Generational differences in the workforce   \n",
       "4  Design not having a \"seat at the table\"|Divers...   \n",
       "\n",
       "   41 --The most critical issues and challenges currently facing design are (answer optional):  \n",
       "0                                                483                                            \n",
       "1                                                459                                            \n",
       "2                                                173                                            \n",
       "3                                                152                                            \n",
       "4                                                114                                            "
      ]
     },
     "execution_count": 210,
     "metadata": {},
     "output_type": "execute_result"
    }
   ],
   "source": [
    "white_challenges.value_counts().sort_values(ascending=False).reset_index().head()"
   ]
  },
  {
   "cell_type": "markdown",
   "metadata": {},
   "source": [
    "## 2) Asian"
   ]
  },
  {
   "cell_type": "code",
   "execution_count": 211,
   "metadata": {},
   "outputs": [],
   "source": [
    "race_asian = data[data['40 --My ethnicity is:'] == 'Asian'] "
   ]
  },
  {
   "cell_type": "code",
   "execution_count": 212,
   "metadata": {},
   "outputs": [
    {
     "data": {
      "text/plain": [
       "10.465116279069768"
      ]
     },
     "execution_count": 212,
     "metadata": {},
     "output_type": "execute_result"
    }
   ],
   "source": [
    "float(len(race_asian))*100/total  #pct of asian"
   ]
  },
  {
   "cell_type": "code",
   "execution_count": 213,
   "metadata": {},
   "outputs": [
    {
     "data": {
      "text/plain": [
       "29.112563543936094"
      ]
     },
     "execution_count": 213,
     "metadata": {},
     "output_type": "execute_result"
    }
   ],
   "source": [
    "race_asian['37 --My age is:'].mean() #avg age"
   ]
  },
  {
   "cell_type": "code",
   "execution_count": 214,
   "metadata": {},
   "outputs": [
    {
     "data": {
      "text/plain": [
       "55466.96927966102"
      ]
     },
     "execution_count": 214,
     "metadata": {},
     "output_type": "execute_result"
    }
   ],
   "source": [
    "race_asian['36 --I live in:'].mean() #avg income"
   ]
  },
  {
   "cell_type": "code",
   "execution_count": 215,
   "metadata": {},
   "outputs": [
    {
     "data": {
      "text/html": [
       "<div>\n",
       "<style scoped>\n",
       "    .dataframe tbody tr th:only-of-type {\n",
       "        vertical-align: middle;\n",
       "    }\n",
       "\n",
       "    .dataframe tbody tr th {\n",
       "        vertical-align: top;\n",
       "    }\n",
       "\n",
       "    .dataframe thead th {\n",
       "        text-align: right;\n",
       "    }\n",
       "</style>\n",
       "<table border=\"1\" class=\"dataframe\">\n",
       "  <thead>\n",
       "    <tr style=\"text-align: right;\">\n",
       "      <th></th>\n",
       "      <th>index</th>\n",
       "      <th>38 --I am:</th>\n",
       "    </tr>\n",
       "  </thead>\n",
       "  <tbody>\n",
       "    <tr>\n",
       "      <th>0</th>\n",
       "      <td>Female</td>\n",
       "      <td>772</td>\n",
       "    </tr>\n",
       "    <tr>\n",
       "      <th>1</th>\n",
       "      <td>Male</td>\n",
       "      <td>590</td>\n",
       "    </tr>\n",
       "    <tr>\n",
       "      <th>2</th>\n",
       "      <td>Non-binary or third gender</td>\n",
       "      <td>10</td>\n",
       "    </tr>\n",
       "    <tr>\n",
       "      <th>3</th>\n",
       "      <td>Prefer not to say</td>\n",
       "      <td>5</td>\n",
       "    </tr>\n",
       "  </tbody>\n",
       "</table>\n",
       "</div>"
      ],
      "text/plain": [
       "                        index  38 --I am:\n",
       "0                      Female         772\n",
       "1                        Male         590\n",
       "2  Non-binary or third gender          10\n",
       "3           Prefer not to say           5"
      ]
     },
     "execution_count": 215,
     "metadata": {},
     "output_type": "execute_result"
    }
   ],
   "source": [
    "race_asian['38 --I am:'].value_counts().reset_index() #gender"
   ]
  },
  {
   "cell_type": "code",
   "execution_count": 216,
   "metadata": {},
   "outputs": [],
   "source": [
    "asian_challenges = race_asian['41 --The most critical issues and challenges currently facing design are (answer optional):']"
   ]
  },
  {
   "cell_type": "code",
   "execution_count": 217,
   "metadata": {},
   "outputs": [
    {
     "data": {
      "text/html": [
       "<div>\n",
       "<style scoped>\n",
       "    .dataframe tbody tr th:only-of-type {\n",
       "        vertical-align: middle;\n",
       "    }\n",
       "\n",
       "    .dataframe tbody tr th {\n",
       "        vertical-align: top;\n",
       "    }\n",
       "\n",
       "    .dataframe thead th {\n",
       "        text-align: right;\n",
       "    }\n",
       "</style>\n",
       "<table border=\"1\" class=\"dataframe\">\n",
       "  <thead>\n",
       "    <tr style=\"text-align: right;\">\n",
       "      <th></th>\n",
       "      <th>index</th>\n",
       "      <th>41 --The most critical issues and challenges currently facing design are (answer optional):</th>\n",
       "    </tr>\n",
       "  </thead>\n",
       "  <tbody>\n",
       "    <tr>\n",
       "      <th>0</th>\n",
       "      <td>None of these</td>\n",
       "      <td>49</td>\n",
       "    </tr>\n",
       "    <tr>\n",
       "      <th>1</th>\n",
       "      <td>Design not having a \"seat at the table\"</td>\n",
       "      <td>38</td>\n",
       "    </tr>\n",
       "    <tr>\n",
       "      <th>2</th>\n",
       "      <td>Diversity in design and tech</td>\n",
       "      <td>24</td>\n",
       "    </tr>\n",
       "    <tr>\n",
       "      <th>3</th>\n",
       "      <td>Design not having a \"seat at the table\"|Divers...</td>\n",
       "      <td>21</td>\n",
       "    </tr>\n",
       "    <tr>\n",
       "      <th>4</th>\n",
       "      <td>Design not having a \"seat at the table\"|Genera...</td>\n",
       "      <td>15</td>\n",
       "    </tr>\n",
       "  </tbody>\n",
       "</table>\n",
       "</div>"
      ],
      "text/plain": [
       "                                               index  \\\n",
       "0                                      None of these   \n",
       "1            Design not having a \"seat at the table\"   \n",
       "2                       Diversity in design and tech   \n",
       "3  Design not having a \"seat at the table\"|Divers...   \n",
       "4  Design not having a \"seat at the table\"|Genera...   \n",
       "\n",
       "   41 --The most critical issues and challenges currently facing design are (answer optional):  \n",
       "0                                                 49                                            \n",
       "1                                                 38                                            \n",
       "2                                                 24                                            \n",
       "3                                                 21                                            \n",
       "4                                                 15                                            "
      ]
     },
     "execution_count": 217,
     "metadata": {},
     "output_type": "execute_result"
    }
   ],
   "source": [
    "asian_challenges.value_counts().sort_values(ascending=False).reset_index().head()"
   ]
  },
  {
   "cell_type": "markdown",
   "metadata": {},
   "source": [
    "## 3) Latina, Latino, Latinx, or Hispanic"
   ]
  },
  {
   "cell_type": "code",
   "execution_count": 218,
   "metadata": {},
   "outputs": [],
   "source": [
    "race_ratino = data[data['40 --My ethnicity is:'] == 'Latina, Latino, Latinx, or Hispanic'] "
   ]
  },
  {
   "cell_type": "code",
   "execution_count": 219,
   "metadata": {},
   "outputs": [
    {
     "data": {
      "text/plain": [
       "6.83234534123727"
      ]
     },
     "execution_count": 219,
     "metadata": {},
     "output_type": "execute_result"
    }
   ],
   "source": [
    "float(len(race_ratino))*100/total  #pct of ratino"
   ]
  },
  {
   "cell_type": "code",
   "execution_count": 220,
   "metadata": {},
   "outputs": [
    {
     "data": {
      "text/plain": [
       "31.53281423804227"
      ]
     },
     "execution_count": 220,
     "metadata": {},
     "output_type": "execute_result"
    }
   ],
   "source": [
    "race_ratino['37 --My age is:'].mean() #avg age"
   ]
  },
  {
   "cell_type": "code",
   "execution_count": 221,
   "metadata": {},
   "outputs": [
    {
     "data": {
      "text/plain": [
       "57135.088323353295"
      ]
     },
     "execution_count": 221,
     "metadata": {},
     "output_type": "execute_result"
    }
   ],
   "source": [
    "race_ratino['36 --I live in:'].mean() #avg income"
   ]
  },
  {
   "cell_type": "code",
   "execution_count": 222,
   "metadata": {},
   "outputs": [
    {
     "data": {
      "text/html": [
       "<div>\n",
       "<style scoped>\n",
       "    .dataframe tbody tr th:only-of-type {\n",
       "        vertical-align: middle;\n",
       "    }\n",
       "\n",
       "    .dataframe tbody tr th {\n",
       "        vertical-align: top;\n",
       "    }\n",
       "\n",
       "    .dataframe thead th {\n",
       "        text-align: right;\n",
       "    }\n",
       "</style>\n",
       "<table border=\"1\" class=\"dataframe\">\n",
       "  <thead>\n",
       "    <tr style=\"text-align: right;\">\n",
       "      <th></th>\n",
       "      <th>index</th>\n",
       "      <th>38 --I am:</th>\n",
       "    </tr>\n",
       "  </thead>\n",
       "  <tbody>\n",
       "    <tr>\n",
       "      <th>0</th>\n",
       "      <td>Female</td>\n",
       "      <td>446</td>\n",
       "    </tr>\n",
       "    <tr>\n",
       "      <th>1</th>\n",
       "      <td>Male</td>\n",
       "      <td>443</td>\n",
       "    </tr>\n",
       "    <tr>\n",
       "      <th>2</th>\n",
       "      <td>Non-binary or third gender</td>\n",
       "      <td>6</td>\n",
       "    </tr>\n",
       "    <tr>\n",
       "      <th>3</th>\n",
       "      <td>Prefer not to say</td>\n",
       "      <td>4</td>\n",
       "    </tr>\n",
       "  </tbody>\n",
       "</table>\n",
       "</div>"
      ],
      "text/plain": [
       "                        index  38 --I am:\n",
       "0                      Female         446\n",
       "1                        Male         443\n",
       "2  Non-binary or third gender           6\n",
       "3           Prefer not to say           4"
      ]
     },
     "execution_count": 222,
     "metadata": {},
     "output_type": "execute_result"
    }
   ],
   "source": [
    "race_ratino['38 --I am:'].value_counts().reset_index() #gender"
   ]
  },
  {
   "cell_type": "code",
   "execution_count": 223,
   "metadata": {},
   "outputs": [],
   "source": [
    "ratino_challenges = race_ratino['41 --The most critical issues and challenges currently facing design are (answer optional):']"
   ]
  },
  {
   "cell_type": "code",
   "execution_count": 224,
   "metadata": {},
   "outputs": [
    {
     "data": {
      "text/html": [
       "<div>\n",
       "<style scoped>\n",
       "    .dataframe tbody tr th:only-of-type {\n",
       "        vertical-align: middle;\n",
       "    }\n",
       "\n",
       "    .dataframe tbody tr th {\n",
       "        vertical-align: top;\n",
       "    }\n",
       "\n",
       "    .dataframe thead th {\n",
       "        text-align: right;\n",
       "    }\n",
       "</style>\n",
       "<table border=\"1\" class=\"dataframe\">\n",
       "  <thead>\n",
       "    <tr style=\"text-align: right;\">\n",
       "      <th></th>\n",
       "      <th>index</th>\n",
       "      <th>41 --The most critical issues and challenges currently facing design are (answer optional):</th>\n",
       "    </tr>\n",
       "  </thead>\n",
       "  <tbody>\n",
       "    <tr>\n",
       "      <th>0</th>\n",
       "      <td>None of these</td>\n",
       "      <td>45</td>\n",
       "    </tr>\n",
       "    <tr>\n",
       "      <th>1</th>\n",
       "      <td>Design not having a \"seat at the table\"</td>\n",
       "      <td>38</td>\n",
       "    </tr>\n",
       "    <tr>\n",
       "      <th>2</th>\n",
       "      <td>Diversity in design and tech</td>\n",
       "      <td>19</td>\n",
       "    </tr>\n",
       "    <tr>\n",
       "      <th>3</th>\n",
       "      <td>Design not having a \"seat at the table\"|Divers...</td>\n",
       "      <td>13</td>\n",
       "    </tr>\n",
       "    <tr>\n",
       "      <th>4</th>\n",
       "      <td>Generational differences in the workforce</td>\n",
       "      <td>13</td>\n",
       "    </tr>\n",
       "  </tbody>\n",
       "</table>\n",
       "</div>"
      ],
      "text/plain": [
       "                                               index  \\\n",
       "0                                      None of these   \n",
       "1            Design not having a \"seat at the table\"   \n",
       "2                       Diversity in design and tech   \n",
       "3  Design not having a \"seat at the table\"|Divers...   \n",
       "4          Generational differences in the workforce   \n",
       "\n",
       "   41 --The most critical issues and challenges currently facing design are (answer optional):  \n",
       "0                                                 45                                            \n",
       "1                                                 38                                            \n",
       "2                                                 19                                            \n",
       "3                                                 13                                            \n",
       "4                                                 13                                            "
      ]
     },
     "execution_count": 224,
     "metadata": {},
     "output_type": "execute_result"
    }
   ],
   "source": [
    "ratino_challenges.value_counts().sort_values(ascending=False).reset_index().head()"
   ]
  },
  {
   "cell_type": "markdown",
   "metadata": {},
   "source": [
    "## 4) Black or African American\t"
   ]
  },
  {
   "cell_type": "code",
   "execution_count": 225,
   "metadata": {},
   "outputs": [],
   "source": [
    "race_black = data[data['40 --My ethnicity is:'] == 'Black or African American'] "
   ]
  },
  {
   "cell_type": "code",
   "execution_count": 226,
   "metadata": {},
   "outputs": [
    {
     "data": {
      "text/plain": [
       "3.108375132998936"
      ]
     },
     "execution_count": 226,
     "metadata": {},
     "output_type": "execute_result"
    }
   ],
   "source": [
    "float(len(race_black))*100/total #pct of black"
   ]
  },
  {
   "cell_type": "code",
   "execution_count": 227,
   "metadata": {},
   "outputs": [
    {
     "data": {
      "text/plain": [
       "32.10268948655257"
      ]
     },
     "execution_count": 227,
     "metadata": {},
     "output_type": "execute_result"
    }
   ],
   "source": [
    "race_black['37 --My age is:'].mean() #avg age"
   ]
  },
  {
   "cell_type": "code",
   "execution_count": 228,
   "metadata": {},
   "outputs": [
    {
     "data": {
      "text/plain": [
       "43633.711590296494"
      ]
     },
     "execution_count": 228,
     "metadata": {},
     "output_type": "execute_result"
    }
   ],
   "source": [
    "race_black['36 --I live in:'].mean() #avg income"
   ]
  },
  {
   "cell_type": "code",
   "execution_count": 229,
   "metadata": {},
   "outputs": [
    {
     "data": {
      "text/html": [
       "<div>\n",
       "<style scoped>\n",
       "    .dataframe tbody tr th:only-of-type {\n",
       "        vertical-align: middle;\n",
       "    }\n",
       "\n",
       "    .dataframe tbody tr th {\n",
       "        vertical-align: top;\n",
       "    }\n",
       "\n",
       "    .dataframe thead th {\n",
       "        text-align: right;\n",
       "    }\n",
       "</style>\n",
       "<table border=\"1\" class=\"dataframe\">\n",
       "  <thead>\n",
       "    <tr style=\"text-align: right;\">\n",
       "      <th></th>\n",
       "      <th>index</th>\n",
       "      <th>38 --I am:</th>\n",
       "    </tr>\n",
       "  </thead>\n",
       "  <tbody>\n",
       "    <tr>\n",
       "      <th>0</th>\n",
       "      <td>Female</td>\n",
       "      <td>206</td>\n",
       "    </tr>\n",
       "    <tr>\n",
       "      <th>1</th>\n",
       "      <td>Male</td>\n",
       "      <td>193</td>\n",
       "    </tr>\n",
       "    <tr>\n",
       "      <th>2</th>\n",
       "      <td>Non-binary or third gender</td>\n",
       "      <td>7</td>\n",
       "    </tr>\n",
       "    <tr>\n",
       "      <th>3</th>\n",
       "      <td>Prefer not to say</td>\n",
       "      <td>2</td>\n",
       "    </tr>\n",
       "    <tr>\n",
       "      <th>4</th>\n",
       "      <td>Other</td>\n",
       "      <td>1</td>\n",
       "    </tr>\n",
       "  </tbody>\n",
       "</table>\n",
       "</div>"
      ],
      "text/plain": [
       "                        index  38 --I am:\n",
       "0                      Female         206\n",
       "1                        Male         193\n",
       "2  Non-binary or third gender           7\n",
       "3           Prefer not to say           2\n",
       "4                       Other           1"
      ]
     },
     "execution_count": 229,
     "metadata": {},
     "output_type": "execute_result"
    }
   ],
   "source": [
    "race_black['38 --I am:'].value_counts().reset_index()"
   ]
  },
  {
   "cell_type": "code",
   "execution_count": 230,
   "metadata": {},
   "outputs": [],
   "source": [
    "black_challenges = race_black['41 --The most critical issues and challenges currently facing design are (answer optional):']"
   ]
  },
  {
   "cell_type": "code",
   "execution_count": 231,
   "metadata": {},
   "outputs": [
    {
     "data": {
      "text/html": [
       "<div>\n",
       "<style scoped>\n",
       "    .dataframe tbody tr th:only-of-type {\n",
       "        vertical-align: middle;\n",
       "    }\n",
       "\n",
       "    .dataframe tbody tr th {\n",
       "        vertical-align: top;\n",
       "    }\n",
       "\n",
       "    .dataframe thead th {\n",
       "        text-align: right;\n",
       "    }\n",
       "</style>\n",
       "<table border=\"1\" class=\"dataframe\">\n",
       "  <thead>\n",
       "    <tr style=\"text-align: right;\">\n",
       "      <th></th>\n",
       "      <th>index</th>\n",
       "      <th>41 --The most critical issues and challenges currently facing design are (answer optional):</th>\n",
       "    </tr>\n",
       "  </thead>\n",
       "  <tbody>\n",
       "    <tr>\n",
       "      <th>0</th>\n",
       "      <td>Design not having a \"seat at the table\"|Divers...</td>\n",
       "      <td>21</td>\n",
       "    </tr>\n",
       "    <tr>\n",
       "      <th>1</th>\n",
       "      <td>Design not having a \"seat at the table\"|Divers...</td>\n",
       "      <td>20</td>\n",
       "    </tr>\n",
       "    <tr>\n",
       "      <th>2</th>\n",
       "      <td>Diversity in design and tech</td>\n",
       "      <td>19</td>\n",
       "    </tr>\n",
       "    <tr>\n",
       "      <th>3</th>\n",
       "      <td>None of these</td>\n",
       "      <td>18</td>\n",
       "    </tr>\n",
       "    <tr>\n",
       "      <th>4</th>\n",
       "      <td>Design not having a \"seat at the table\"</td>\n",
       "      <td>11</td>\n",
       "    </tr>\n",
       "  </tbody>\n",
       "</table>\n",
       "</div>"
      ],
      "text/plain": [
       "                                               index  \\\n",
       "0  Design not having a \"seat at the table\"|Divers...   \n",
       "1  Design not having a \"seat at the table\"|Divers...   \n",
       "2                       Diversity in design and tech   \n",
       "3                                      None of these   \n",
       "4            Design not having a \"seat at the table\"   \n",
       "\n",
       "   41 --The most critical issues and challenges currently facing design are (answer optional):  \n",
       "0                                                 21                                            \n",
       "1                                                 20                                            \n",
       "2                                                 19                                            \n",
       "3                                                 18                                            \n",
       "4                                                 11                                            "
      ]
     },
     "execution_count": 231,
     "metadata": {},
     "output_type": "execute_result"
    }
   ],
   "source": [
    "black_challenges.value_counts().sort_values(ascending=False).reset_index().head()"
   ]
  },
  {
   "cell_type": "code",
   "execution_count": null,
   "metadata": {},
   "outputs": [],
   "source": []
  },
  {
   "cell_type": "code",
   "execution_count": null,
   "metadata": {},
   "outputs": [],
   "source": []
  }
 ],
 "metadata": {
  "kernelspec": {
   "display_name": "Python 2",
   "language": "python",
   "name": "python2"
  },
  "language_info": {
   "codemirror_mode": {
    "name": "ipython",
    "version": 2
   },
   "file_extension": ".py",
   "mimetype": "text/x-python",
   "name": "python",
   "nbconvert_exporter": "python",
   "pygments_lexer": "ipython2",
   "version": "2.7.10"
  }
 },
 "nbformat": 4,
 "nbformat_minor": 2
}
