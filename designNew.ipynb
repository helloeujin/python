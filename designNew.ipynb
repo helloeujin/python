{
 "cells": [
  {
   "cell_type": "code",
   "execution_count": 1,
   "metadata": {},
   "outputs": [],
   "source": [
    "import pandas as pd"
   ]
  },
  {
   "cell_type": "code",
   "execution_count": 2,
   "metadata": {},
   "outputs": [],
   "source": [
    "data = pd.read_csv(\"data/DesignCensus2017_Data.csv\")"
   ]
  },
  {
   "cell_type": "code",
   "execution_count": 3,
   "metadata": {},
   "outputs": [],
   "source": [
    "#data.head()"
   ]
  },
  {
   "cell_type": "code",
   "execution_count": 16,
   "metadata": {},
   "outputs": [
    {
     "data": {
      "text/html": [
       "<div>\n",
       "<style scoped>\n",
       "    .dataframe tbody tr th:only-of-type {\n",
       "        vertical-align: middle;\n",
       "    }\n",
       "\n",
       "    .dataframe tbody tr th {\n",
       "        vertical-align: top;\n",
       "    }\n",
       "\n",
       "    .dataframe thead th {\n",
       "        text-align: right;\n",
       "    }\n",
       "</style>\n",
       "<table border=\"1\" class=\"dataframe\">\n",
       "  <thead>\n",
       "    <tr style=\"text-align: right;\">\n",
       "      <th></th>\n",
       "      <th>index</th>\n",
       "      <th>40 --My ethnicity is:</th>\n",
       "    </tr>\n",
       "  </thead>\n",
       "  <tbody>\n",
       "    <tr>\n",
       "      <th>0</th>\n",
       "      <td>White or Caucasian</td>\n",
       "      <td>8954</td>\n",
       "    </tr>\n",
       "    <tr>\n",
       "      <th>1</th>\n",
       "      <td>Asian</td>\n",
       "      <td>1377</td>\n",
       "    </tr>\n",
       "    <tr>\n",
       "      <th>2</th>\n",
       "      <td>Latina, Latino, Latinx, or Hispanic</td>\n",
       "      <td>899</td>\n",
       "    </tr>\n",
       "    <tr>\n",
       "      <th>3</th>\n",
       "      <td>Black or African American</td>\n",
       "      <td>409</td>\n",
       "    </tr>\n",
       "    <tr>\n",
       "      <th>4</th>\n",
       "      <td>Prefer not to say</td>\n",
       "      <td>352</td>\n",
       "    </tr>\n",
       "  </tbody>\n",
       "</table>\n",
       "</div>"
      ],
      "text/plain": [
       "                                 index  40 --My ethnicity is:\n",
       "0                   White or Caucasian                   8954\n",
       "1                                Asian                   1377\n",
       "2  Latina, Latino, Latinx, or Hispanic                    899\n",
       "3            Black or African American                    409\n",
       "4                    Prefer not to say                    352"
      ]
     },
     "execution_count": 16,
     "metadata": {},
     "output_type": "execute_result"
    }
   ],
   "source": [
    "data[\"40 --My ethnicity is:\"].value_counts().reset_index().head()\n",
    "#number in each ethnicity"
   ]
  },
  {
   "cell_type": "code",
   "execution_count": 5,
   "metadata": {},
   "outputs": [],
   "source": [
    "byEthnicity = data[(data['40 --My ethnicity is:'] == 'Black or African American') | (data['40 --My ethnicity is:'] == 'Asian') | (data['40 --My ethnicity is:'] == 'White or Caucasian') | (data['40 --My ethnicity is:'] == 'Latina, Latino, Latinx, or Hispanic')] "
   ]
  },
  {
   "cell_type": "code",
   "execution_count": 6,
   "metadata": {},
   "outputs": [],
   "source": [
    "#byEthnicity.info()"
   ]
  },
  {
   "cell_type": "code",
   "execution_count": 7,
   "metadata": {},
   "outputs": [],
   "source": [
    "#byEthnicity.head()"
   ]
  },
  {
   "cell_type": "markdown",
   "metadata": {},
   "source": [
    "### Age"
   ]
  },
  {
   "cell_type": "code",
   "execution_count": 17,
   "metadata": {},
   "outputs": [
    {
     "data": {
      "text/html": [
       "<div>\n",
       "<style scoped>\n",
       "    .dataframe tbody tr th:only-of-type {\n",
       "        vertical-align: middle;\n",
       "    }\n",
       "\n",
       "    .dataframe tbody tr th {\n",
       "        vertical-align: top;\n",
       "    }\n",
       "\n",
       "    .dataframe thead th {\n",
       "        text-align: right;\n",
       "    }\n",
       "</style>\n",
       "<table border=\"1\" class=\"dataframe\">\n",
       "  <thead>\n",
       "    <tr style=\"text-align: right;\">\n",
       "      <th></th>\n",
       "      <th>40 --My ethnicity is:</th>\n",
       "      <th>37 --My age is:</th>\n",
       "    </tr>\n",
       "  </thead>\n",
       "  <tbody>\n",
       "    <tr>\n",
       "      <th>0</th>\n",
       "      <td>Asian</td>\n",
       "      <td>29.112564</td>\n",
       "    </tr>\n",
       "    <tr>\n",
       "      <th>1</th>\n",
       "      <td>Latina, Latino, Latinx, or Hispanic</td>\n",
       "      <td>31.532814</td>\n",
       "    </tr>\n",
       "    <tr>\n",
       "      <th>2</th>\n",
       "      <td>Black or African American</td>\n",
       "      <td>32.102689</td>\n",
       "    </tr>\n",
       "    <tr>\n",
       "      <th>3</th>\n",
       "      <td>White or Caucasian</td>\n",
       "      <td>33.188184</td>\n",
       "    </tr>\n",
       "  </tbody>\n",
       "</table>\n",
       "</div>"
      ],
      "text/plain": [
       "                 40 --My ethnicity is:  37 --My age is:\n",
       "0                                Asian        29.112564\n",
       "1  Latina, Latino, Latinx, or Hispanic        31.532814\n",
       "2            Black or African American        32.102689\n",
       "3                   White or Caucasian        33.188184"
      ]
     },
     "execution_count": 17,
     "metadata": {},
     "output_type": "execute_result"
    }
   ],
   "source": [
    "byEthnicity.groupby('40 --My ethnicity is:')['37 --My age is:'].mean().sort_values().reset_index()"
   ]
  },
  {
   "cell_type": "code",
   "execution_count": 9,
   "metadata": {},
   "outputs": [],
   "source": [
    "#byEthnicity.groupby(['40 --My ethnicity is:', '38 --I am:'])['37 --My age is:'].mean().reset_index()"
   ]
  },
  {
   "cell_type": "markdown",
   "metadata": {},
   "source": [
    "### Population"
   ]
  },
  {
   "cell_type": "code",
   "execution_count": 10,
   "metadata": {},
   "outputs": [
    {
     "data": {
      "text/html": [
       "<div>\n",
       "<style scoped>\n",
       "    .dataframe tbody tr th:only-of-type {\n",
       "        vertical-align: middle;\n",
       "    }\n",
       "\n",
       "    .dataframe tbody tr th {\n",
       "        vertical-align: top;\n",
       "    }\n",
       "\n",
       "    .dataframe thead th {\n",
       "        text-align: right;\n",
       "    }\n",
       "</style>\n",
       "<table border=\"1\" class=\"dataframe\">\n",
       "  <thead>\n",
       "    <tr style=\"text-align: right;\">\n",
       "      <th></th>\n",
       "      <th>index</th>\n",
       "      <th>38 --I am:</th>\n",
       "    </tr>\n",
       "  </thead>\n",
       "  <tbody>\n",
       "    <tr>\n",
       "      <th>0</th>\n",
       "      <td>Female</td>\n",
       "      <td>6296</td>\n",
       "    </tr>\n",
       "    <tr>\n",
       "      <th>1</th>\n",
       "      <td>Male</td>\n",
       "      <td>5226</td>\n",
       "    </tr>\n",
       "    <tr>\n",
       "      <th>2</th>\n",
       "      <td>Non-binary or third gender</td>\n",
       "      <td>81</td>\n",
       "    </tr>\n",
       "    <tr>\n",
       "      <th>3</th>\n",
       "      <td>Prefer not to say</td>\n",
       "      <td>35</td>\n",
       "    </tr>\n",
       "    <tr>\n",
       "      <th>4</th>\n",
       "      <td>Other</td>\n",
       "      <td>1</td>\n",
       "    </tr>\n",
       "  </tbody>\n",
       "</table>\n",
       "</div>"
      ],
      "text/plain": [
       "                        index  38 --I am:\n",
       "0                      Female        6296\n",
       "1                        Male        5226\n",
       "2  Non-binary or third gender          81\n",
       "3           Prefer not to say          35\n",
       "4                       Other           1"
      ]
     },
     "execution_count": 10,
     "metadata": {},
     "output_type": "execute_result"
    }
   ],
   "source": [
    "byEthnicity['38 --I am:'].value_counts().reset_index()"
   ]
  },
  {
   "cell_type": "code",
   "execution_count": 11,
   "metadata": {},
   "outputs": [
    {
     "data": {
      "text/plain": [
       "40 --My ethnicity is:                38 --I am:                \n",
       "Asian                                Female                         772\n",
       "                                     Male                           590\n",
       "                                     Non-binary or third gender      10\n",
       "                                     Prefer not to say                5\n",
       "Black or African American            Female                         206\n",
       "                                     Male                           193\n",
       "                                     Non-binary or third gender       7\n",
       "                                     Prefer not to say                2\n",
       "                                     Other                            1\n",
       "Latina, Latino, Latinx, or Hispanic  Female                         446\n",
       "                                     Male                           443\n",
       "                                     Non-binary or third gender       6\n",
       "                                     Prefer not to say                4\n",
       "White or Caucasian                   Female                        4872\n",
       "                                     Male                          4000\n",
       "                                     Non-binary or third gender      58\n",
       "                                     Prefer not to say               24\n",
       "Name: 38 --I am:, dtype: int64"
      ]
     },
     "execution_count": 11,
     "metadata": {},
     "output_type": "execute_result"
    }
   ],
   "source": [
    "byEthnicity.groupby('40 --My ethnicity is:')['38 --I am:'].value_counts()"
   ]
  },
  {
   "cell_type": "markdown",
   "metadata": {},
   "source": [
    "### Annual salary"
   ]
  },
  {
   "cell_type": "code",
   "execution_count": 12,
   "metadata": {},
   "outputs": [
    {
     "data": {
      "text/html": [
       "<div>\n",
       "<style scoped>\n",
       "    .dataframe tbody tr th:only-of-type {\n",
       "        vertical-align: middle;\n",
       "    }\n",
       "\n",
       "    .dataframe tbody tr th {\n",
       "        vertical-align: top;\n",
       "    }\n",
       "\n",
       "    .dataframe thead th {\n",
       "        text-align: right;\n",
       "    }\n",
       "</style>\n",
       "<table border=\"1\" class=\"dataframe\">\n",
       "  <thead>\n",
       "    <tr style=\"text-align: right;\">\n",
       "      <th></th>\n",
       "      <th>40 --My ethnicity is:</th>\n",
       "      <th>18 --My annual salary is:</th>\n",
       "    </tr>\n",
       "  </thead>\n",
       "  <tbody>\n",
       "    <tr>\n",
       "      <th>0</th>\n",
       "      <td>Asian</td>\n",
       "      <td>72199.867127</td>\n",
       "    </tr>\n",
       "    <tr>\n",
       "      <th>1</th>\n",
       "      <td>Black or African American</td>\n",
       "      <td>62897.529716</td>\n",
       "    </tr>\n",
       "    <tr>\n",
       "      <th>2</th>\n",
       "      <td>Latina, Latino, Latinx, or Hispanic</td>\n",
       "      <td>54967.211628</td>\n",
       "    </tr>\n",
       "    <tr>\n",
       "      <th>3</th>\n",
       "      <td>White or Caucasian</td>\n",
       "      <td>69157.288851</td>\n",
       "    </tr>\n",
       "  </tbody>\n",
       "</table>\n",
       "</div>"
      ],
      "text/plain": [
       "                 40 --My ethnicity is:  18 --My annual salary is:\n",
       "0                                Asian               72199.867127\n",
       "1            Black or African American               62897.529716\n",
       "2  Latina, Latino, Latinx, or Hispanic               54967.211628\n",
       "3                   White or Caucasian               69157.288851"
      ]
     },
     "execution_count": 12,
     "metadata": {},
     "output_type": "execute_result"
    }
   ],
   "source": [
    "byEthnicity.groupby('40 --My ethnicity is:')['18 --My annual salary is:'].mean().reset_index()"
   ]
  },
  {
   "cell_type": "code",
   "execution_count": 13,
   "metadata": {},
   "outputs": [
    {
     "data": {
      "text/html": [
       "<div>\n",
       "<style scoped>\n",
       "    .dataframe tbody tr th:only-of-type {\n",
       "        vertical-align: middle;\n",
       "    }\n",
       "\n",
       "    .dataframe tbody tr th {\n",
       "        vertical-align: top;\n",
       "    }\n",
       "\n",
       "    .dataframe thead th {\n",
       "        text-align: right;\n",
       "    }\n",
       "</style>\n",
       "<table border=\"1\" class=\"dataframe\">\n",
       "  <thead>\n",
       "    <tr style=\"text-align: right;\">\n",
       "      <th></th>\n",
       "      <th>40 --My ethnicity is:</th>\n",
       "      <th>38 --I am:</th>\n",
       "      <th>18 --My annual salary is:</th>\n",
       "    </tr>\n",
       "  </thead>\n",
       "  <tbody>\n",
       "    <tr>\n",
       "      <th>0</th>\n",
       "      <td>Asian</td>\n",
       "      <td>Prefer not to say</td>\n",
       "      <td>179780.000000</td>\n",
       "    </tr>\n",
       "    <tr>\n",
       "      <th>1</th>\n",
       "      <td>Black or African American</td>\n",
       "      <td>Other</td>\n",
       "      <td>150000.000000</td>\n",
       "    </tr>\n",
       "    <tr>\n",
       "      <th>2</th>\n",
       "      <td>White or Caucasian</td>\n",
       "      <td>Male</td>\n",
       "      <td>78762.928041</td>\n",
       "    </tr>\n",
       "    <tr>\n",
       "      <th>3</th>\n",
       "      <td>Asian</td>\n",
       "      <td>Female</td>\n",
       "      <td>74270.756831</td>\n",
       "    </tr>\n",
       "    <tr>\n",
       "      <th>4</th>\n",
       "      <td>Black or African American</td>\n",
       "      <td>Male</td>\n",
       "      <td>73569.172043</td>\n",
       "    </tr>\n",
       "    <tr>\n",
       "      <th>5</th>\n",
       "      <td>Asian</td>\n",
       "      <td>Male</td>\n",
       "      <td>69150.870270</td>\n",
       "    </tr>\n",
       "    <tr>\n",
       "      <th>6</th>\n",
       "      <td>Latina, Latino, Latinx, or Hispanic</td>\n",
       "      <td>Non-binary or third gender</td>\n",
       "      <td>67833.333333</td>\n",
       "    </tr>\n",
       "    <tr>\n",
       "      <th>7</th>\n",
       "      <td>White or Caucasian</td>\n",
       "      <td>Female</td>\n",
       "      <td>61554.009458</td>\n",
       "    </tr>\n",
       "    <tr>\n",
       "      <th>8</th>\n",
       "      <td>Black or African American</td>\n",
       "      <td>Prefer not to say</td>\n",
       "      <td>60000.000000</td>\n",
       "    </tr>\n",
       "    <tr>\n",
       "      <th>9</th>\n",
       "      <td>Latina, Latino, Latinx, or Hispanic</td>\n",
       "      <td>Male</td>\n",
       "      <td>57318.797203</td>\n",
       "    </tr>\n",
       "    <tr>\n",
       "      <th>10</th>\n",
       "      <td>White or Caucasian</td>\n",
       "      <td>Non-binary or third gender</td>\n",
       "      <td>57177.241379</td>\n",
       "    </tr>\n",
       "    <tr>\n",
       "      <th>11</th>\n",
       "      <td>Black or African American</td>\n",
       "      <td>Female</td>\n",
       "      <td>52630.041237</td>\n",
       "    </tr>\n",
       "    <tr>\n",
       "      <th>12</th>\n",
       "      <td>Latina, Latino, Latinx, or Hispanic</td>\n",
       "      <td>Female</td>\n",
       "      <td>52492.981043</td>\n",
       "    </tr>\n",
       "    <tr>\n",
       "      <th>13</th>\n",
       "      <td>Black or African American</td>\n",
       "      <td>Non-binary or third gender</td>\n",
       "      <td>47450.000000</td>\n",
       "    </tr>\n",
       "    <tr>\n",
       "      <th>14</th>\n",
       "      <td>White or Caucasian</td>\n",
       "      <td>Prefer not to say</td>\n",
       "      <td>42541.666667</td>\n",
       "    </tr>\n",
       "    <tr>\n",
       "      <th>15</th>\n",
       "      <td>Latina, Latino, Latinx, or Hispanic</td>\n",
       "      <td>Prefer not to say</td>\n",
       "      <td>41000.000000</td>\n",
       "    </tr>\n",
       "    <tr>\n",
       "      <th>16</th>\n",
       "      <td>Asian</td>\n",
       "      <td>Non-binary or third gender</td>\n",
       "      <td>36040.000000</td>\n",
       "    </tr>\n",
       "  </tbody>\n",
       "</table>\n",
       "</div>"
      ],
      "text/plain": [
       "                  40 --My ethnicity is:                  38 --I am:  \\\n",
       "0                                 Asian           Prefer not to say   \n",
       "1             Black or African American                       Other   \n",
       "2                    White or Caucasian                        Male   \n",
       "3                                 Asian                      Female   \n",
       "4             Black or African American                        Male   \n",
       "5                                 Asian                        Male   \n",
       "6   Latina, Latino, Latinx, or Hispanic  Non-binary or third gender   \n",
       "7                    White or Caucasian                      Female   \n",
       "8             Black or African American           Prefer not to say   \n",
       "9   Latina, Latino, Latinx, or Hispanic                        Male   \n",
       "10                   White or Caucasian  Non-binary or third gender   \n",
       "11            Black or African American                      Female   \n",
       "12  Latina, Latino, Latinx, or Hispanic                      Female   \n",
       "13            Black or African American  Non-binary or third gender   \n",
       "14                   White or Caucasian           Prefer not to say   \n",
       "15  Latina, Latino, Latinx, or Hispanic           Prefer not to say   \n",
       "16                                Asian  Non-binary or third gender   \n",
       "\n",
       "    18 --My annual salary is:  \n",
       "0               179780.000000  \n",
       "1               150000.000000  \n",
       "2                78762.928041  \n",
       "3                74270.756831  \n",
       "4                73569.172043  \n",
       "5                69150.870270  \n",
       "6                67833.333333  \n",
       "7                61554.009458  \n",
       "8                60000.000000  \n",
       "9                57318.797203  \n",
       "10               57177.241379  \n",
       "11               52630.041237  \n",
       "12               52492.981043  \n",
       "13               47450.000000  \n",
       "14               42541.666667  \n",
       "15               41000.000000  \n",
       "16               36040.000000  "
      ]
     },
     "execution_count": 13,
     "metadata": {},
     "output_type": "execute_result"
    }
   ],
   "source": [
    "byEthnicity.groupby(['40 --My ethnicity is:', '38 --I am:'])['18 --My annual salary is:'].mean().sort_values(ascending=False).reset_index()"
   ]
  },
  {
   "cell_type": "code",
   "execution_count": 18,
   "metadata": {},
   "outputs": [
    {
     "data": {
      "text/html": [
       "<div>\n",
       "<style scoped>\n",
       "    .dataframe tbody tr th:only-of-type {\n",
       "        vertical-align: middle;\n",
       "    }\n",
       "\n",
       "    .dataframe tbody tr th {\n",
       "        vertical-align: top;\n",
       "    }\n",
       "\n",
       "    .dataframe thead th {\n",
       "        text-align: right;\n",
       "    }\n",
       "</style>\n",
       "<table border=\"1\" class=\"dataframe\">\n",
       "  <thead>\n",
       "    <tr style=\"text-align: right;\">\n",
       "      <th></th>\n",
       "      <th>40 --My ethnicity is:</th>\n",
       "      <th>38 --I am:</th>\n",
       "      <th>1 -- I've worked in design for:</th>\n",
       "      <th>18 --My annual salary is:</th>\n",
       "    </tr>\n",
       "  </thead>\n",
       "  <tbody>\n",
       "    <tr>\n",
       "      <th>0</th>\n",
       "      <td>Black or African American</td>\n",
       "      <td>Male</td>\n",
       "      <td>20+ years</td>\n",
       "      <td>273392.785714</td>\n",
       "    </tr>\n",
       "    <tr>\n",
       "      <th>1</th>\n",
       "      <td>Asian</td>\n",
       "      <td>Prefer not to say</td>\n",
       "      <td>1-4 years</td>\n",
       "      <td>242966.666667</td>\n",
       "    </tr>\n",
       "    <tr>\n",
       "      <th>2</th>\n",
       "      <td>White or Caucasian</td>\n",
       "      <td>Non-binary or third gender</td>\n",
       "      <td>20+ years</td>\n",
       "      <td>160000.000000</td>\n",
       "    </tr>\n",
       "    <tr>\n",
       "      <th>3</th>\n",
       "      <td>Black or African American</td>\n",
       "      <td>Other</td>\n",
       "      <td>10-14 years</td>\n",
       "      <td>150000.000000</td>\n",
       "    </tr>\n",
       "    <tr>\n",
       "      <th>4</th>\n",
       "      <td>White or Caucasian</td>\n",
       "      <td>Male</td>\n",
       "      <td>20+ years</td>\n",
       "      <td>107230.440945</td>\n",
       "    </tr>\n",
       "  </tbody>\n",
       "</table>\n",
       "</div>"
      ],
      "text/plain": [
       "       40 --My ethnicity is:                  38 --I am:  \\\n",
       "0  Black or African American                        Male   \n",
       "1                      Asian           Prefer not to say   \n",
       "2         White or Caucasian  Non-binary or third gender   \n",
       "3  Black or African American                       Other   \n",
       "4         White or Caucasian                        Male   \n",
       "\n",
       "  1 -- I've worked in design for:  18 --My annual salary is:  \n",
       "0                       20+ years              273392.785714  \n",
       "1                       1-4 years              242966.666667  \n",
       "2                       20+ years              160000.000000  \n",
       "3                     10-14 years              150000.000000  \n",
       "4                       20+ years              107230.440945  "
      ]
     },
     "execution_count": 18,
     "metadata": {},
     "output_type": "execute_result"
    }
   ],
   "source": [
    "byEthnicity.groupby(['40 --My ethnicity is:', '38 --I am:',\"1 -- I've worked in design for:\"])['18 --My annual salary is:'].mean().sort_values(ascending=False).reset_index().head()"
   ]
  },
  {
   "cell_type": "code",
   "execution_count": 15,
   "metadata": {},
   "outputs": [
    {
     "data": {
      "text/html": [
       "<div>\n",
       "<style scoped>\n",
       "    .dataframe tbody tr th:only-of-type {\n",
       "        vertical-align: middle;\n",
       "    }\n",
       "\n",
       "    .dataframe tbody tr th {\n",
       "        vertical-align: top;\n",
       "    }\n",
       "\n",
       "    .dataframe thead th {\n",
       "        text-align: right;\n",
       "    }\n",
       "</style>\n",
       "<table border=\"1\" class=\"dataframe\">\n",
       "  <thead>\n",
       "    <tr style=\"text-align: right;\">\n",
       "      <th></th>\n",
       "      <th>38 --I am:</th>\n",
       "      <th>18 --My annual salary is:</th>\n",
       "    </tr>\n",
       "  </thead>\n",
       "  <tbody>\n",
       "    <tr>\n",
       "      <th>0</th>\n",
       "      <td>Other</td>\n",
       "      <td>150000.000000</td>\n",
       "    </tr>\n",
       "    <tr>\n",
       "      <th>1</th>\n",
       "      <td>Male</td>\n",
       "      <td>75708.689064</td>\n",
       "    </tr>\n",
       "    <tr>\n",
       "      <th>2</th>\n",
       "      <td>Prefer not to say</td>\n",
       "      <td>63724.242424</td>\n",
       "    </tr>\n",
       "    <tr>\n",
       "      <th>3</th>\n",
       "      <td>Female</td>\n",
       "      <td>62168.758107</td>\n",
       "    </tr>\n",
       "    <tr>\n",
       "      <th>4</th>\n",
       "      <td>Non-binary or third gender</td>\n",
       "      <td>54695.316456</td>\n",
       "    </tr>\n",
       "  </tbody>\n",
       "</table>\n",
       "</div>"
      ],
      "text/plain": [
       "                   38 --I am:  18 --My annual salary is:\n",
       "0                       Other              150000.000000\n",
       "1                        Male               75708.689064\n",
       "2           Prefer not to say               63724.242424\n",
       "3                      Female               62168.758107\n",
       "4  Non-binary or third gender               54695.316456"
      ]
     },
     "execution_count": 15,
     "metadata": {},
     "output_type": "execute_result"
    }
   ],
   "source": [
    "byEthnicity.groupby(['38 --I am:'])['18 --My annual salary is:'].mean().sort_values(ascending=False).reset_index()"
   ]
  },
  {
   "cell_type": "markdown",
   "metadata": {},
   "source": [
    "### Company size"
   ]
  },
  {
   "cell_type": "code",
   "execution_count": 19,
   "metadata": {},
   "outputs": [
    {
     "data": {
      "text/plain": [
       "40 --My ethnicity is:                9 --My organization has:\n",
       "Asian                                1000+ employees              369\n",
       "                                     11-50 employees              237\n",
       "                                     1-10 employees               211\n",
       "                                     51-100 employees             143\n",
       "                                     101-250 employees            127\n",
       "                                     251-500 employees             91\n",
       "                                     501-1000 employees            79\n",
       "                                     Not sure                      42\n",
       "Black or African American            1-10 employees               107\n",
       "                                     1000+ employees               90\n",
       "                                     11-50 employees               60\n",
       "                                     51-100 employees              44\n",
       "                                     101-250 employees             26\n",
       "                                     501-1000 employees            24\n",
       "                                     251-500 employees             22\n",
       "                                     Not sure                      12\n",
       "Latina, Latino, Latinx, or Hispanic  1-10 employees               234\n",
       "                                     1000+ employees              195\n",
       "                                     11-50 employees              162\n",
       "                                     51-100 employees              72\n",
       "                                     101-250 employees             71\n",
       "                                     251-500 employees             59\n",
       "                                     501-1000 employees            43\n",
       "                                     Not sure                      24\n",
       "White or Caucasian                   1-10 employees              2272\n",
       "                                     1000+ employees             1902\n",
       "                                     11-50 employees             1736\n",
       "                                     101-250 employees            791\n",
       "                                     51-100 employees             771\n",
       "                                     251-500 employees            604\n",
       "                                     501-1000 employees           511\n",
       "                                     Not sure                     151\n",
       "Name: 9 --My organization has:, dtype: int64"
      ]
     },
     "execution_count": 19,
     "metadata": {},
     "output_type": "execute_result"
    }
   ],
   "source": [
    "byEthnicity.groupby('40 --My ethnicity is:')['9 --My organization has:'].value_counts()"
   ]
  },
  {
   "cell_type": "code",
   "execution_count": null,
   "metadata": {},
   "outputs": [],
   "source": []
  }
 ],
 "metadata": {
  "kernelspec": {
   "display_name": "Python 2",
   "language": "python",
   "name": "python2"
  },
  "language_info": {
   "codemirror_mode": {
    "name": "ipython",
    "version": 2
   },
   "file_extension": ".py",
   "mimetype": "text/x-python",
   "name": "python",
   "nbconvert_exporter": "python",
   "pygments_lexer": "ipython2",
   "version": "2.7.10"
  }
 },
 "nbformat": 4,
 "nbformat_minor": 2
}
